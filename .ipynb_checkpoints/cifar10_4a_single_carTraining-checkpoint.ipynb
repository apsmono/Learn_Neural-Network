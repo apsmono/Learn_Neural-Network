{
 "cells": [
  {
   "cell_type": "code",
   "execution_count": 1,
   "metadata": {},
   "outputs": [
    {
     "name": "stderr",
     "output_type": "stream",
     "text": [
      "Using TensorFlow backend.\n"
     ]
    }
   ],
   "source": [
    "from keras.datasets import cifar10\n",
    "import numpy as np\n",
    "\n",
    "(X_train, y_train), (X_test,y_test) = cifar10.load_data()\n",
    "\n",
    "X_train = X_train/255.\n",
    "X_test = X_test/255."
   ]
  },
  {
   "cell_type": "code",
   "execution_count": 2,
   "metadata": {},
   "outputs": [],
   "source": [
    "from keras.models import Sequential\n",
    "from keras.layers import Dense, Flatten, Dropout, Conv2D, MaxPooling2D\n",
    "from keras.optimizers import RMSprop\n",
    "\n",
    "model = Sequential()\n",
    "\n",
    "model.add(Conv2D(32, kernel_size=(3,3), input_shape=(32,32,3), activation=\"relu\", padding=\"same\"))\n",
    "model.add(Conv2D(32, kernel_size=(3,3), activation=\"relu\", padding=\"same\"))\n",
    "model.add(MaxPooling2D(pool_size=(2,2), padding=\"same\"))\n",
    "model.add(Dropout(0.2))\n",
    "\n",
    "model.add(Conv2D(64, kernel_size=(3,3), activation=\"relu\", padding=\"same\"))\n",
    "model.add(Conv2D(64, kernel_size=(3,3), activation=\"relu\", padding=\"same\"))\n",
    "model.add(MaxPooling2D(pool_size=(2,2), padding=\"same\"))\n",
    "model.add(Dropout(0.2))\n",
    "\n",
    "model.add(Flatten())\n",
    "model.add(Dense(256, activation=\"relu\"))\n",
    "model.add(Dense(128, activation=\"relu\"))\n",
    "model.add(Dense(1, activation=\"sigmoid\"))\n",
    "\n",
    "\n",
    "model.compile(optimizer=RMSprop(lr=0.0001), loss=\"binary_crossentropy\", metrics=[\"accuracy\"])"
   ]
  },
  {
   "cell_type": "code",
   "execution_count": 3,
   "metadata": {
    "scrolled": true
   },
   "outputs": [
    {
     "name": "stdout",
     "output_type": "stream",
     "text": [
      "Epoch 1/50\n",
      "391/391 [==============================] - 55s 140ms/step - loss: 0.2888 - acc: 0.9021\n",
      "Epoch 2/50\n",
      "391/391 [==============================] - 44s 112ms/step - loss: 0.2234 - acc: 0.9144\n",
      "Epoch 3/50\n",
      "391/391 [==============================] - 44s 112ms/step - loss: 0.1984 - acc: 0.9214\n",
      "Epoch 4/50\n",
      "391/391 [==============================] - 44s 113ms/step - loss: 0.1796 - acc: 0.9276\n",
      "Epoch 5/50\n",
      "391/391 [==============================] - 44s 112ms/step - loss: 0.1667 - acc: 0.9331\n",
      "Epoch 6/50\n",
      "391/391 [==============================] - 43s 110ms/step - loss: 0.1556 - acc: 0.9373\n",
      "Epoch 7/50\n",
      "391/391 [==============================] - 44s 111ms/step - loss: 0.1500 - acc: 0.9405\n",
      "Epoch 8/50\n",
      "391/391 [==============================] - 44s 112ms/step - loss: 0.1424 - acc: 0.9433\n",
      "Epoch 9/50\n",
      "391/391 [==============================] - 44s 111ms/step - loss: 0.1359 - acc: 0.9469\n",
      "Epoch 10/50\n",
      "391/391 [==============================] - 44s 113ms/step - loss: 0.1302 - acc: 0.9496\n",
      "Epoch 11/50\n",
      "391/391 [==============================] - 44s 112ms/step - loss: 0.1246 - acc: 0.9525\n",
      "Epoch 12/50\n",
      "391/391 [==============================] - 43s 111ms/step - loss: 0.1201 - acc: 0.9531\n",
      "Epoch 13/50\n",
      "391/391 [==============================] - 43s 111ms/step - loss: 0.1172 - acc: 0.9545\n",
      "Epoch 14/50\n",
      "391/391 [==============================] - 44s 112ms/step - loss: 0.1108 - acc: 0.9573\n",
      "Epoch 15/50\n",
      "391/391 [==============================] - 44s 112ms/step - loss: 0.1093 - acc: 0.9572\n",
      "Epoch 16/50\n",
      "391/391 [==============================] - 43s 111ms/step - loss: 0.1060 - acc: 0.9598\n",
      "Epoch 17/50\n",
      "391/391 [==============================] - 43s 111ms/step - loss: 0.1020 - acc: 0.9612\n",
      "Epoch 18/50\n",
      "391/391 [==============================] - 44s 112ms/step - loss: 0.0992 - acc: 0.9627\n",
      "Epoch 19/50\n",
      "391/391 [==============================] - 43s 111ms/step - loss: 0.0958 - acc: 0.9637\n",
      "Epoch 20/50\n",
      "391/391 [==============================] - 43s 111ms/step - loss: 0.0933 - acc: 0.9650\n",
      "Epoch 21/50\n",
      "391/391 [==============================] - 43s 111ms/step - loss: 0.0907 - acc: 0.9666\n",
      "Epoch 22/50\n",
      "391/391 [==============================] - 44s 112ms/step - loss: 0.0872 - acc: 0.9672\n",
      "Epoch 23/50\n",
      "391/391 [==============================] - 43s 111ms/step - loss: 0.0859 - acc: 0.9686\n",
      "Epoch 24/50\n",
      "391/391 [==============================] - 44s 112ms/step - loss: 0.0851 - acc: 0.9683\n",
      "Epoch 25/50\n",
      "391/391 [==============================] - 43s 111ms/step - loss: 0.0825 - acc: 0.9698\n",
      "Epoch 26/50\n",
      "391/391 [==============================] - 44s 112ms/step - loss: 0.0782 - acc: 0.9713\n",
      "Epoch 27/50\n",
      "391/391 [==============================] - 43s 111ms/step - loss: 0.0768 - acc: 0.9722\n",
      "Epoch 28/50\n",
      "391/391 [==============================] - 43s 111ms/step - loss: 0.0766 - acc: 0.9724\n",
      "Epoch 29/50\n",
      "391/391 [==============================] - 44s 112ms/step - loss: 0.0733 - acc: 0.9734\n",
      "Epoch 30/50\n",
      "391/391 [==============================] - 45s 115ms/step - loss: 0.0728 - acc: 0.9736\n",
      "Epoch 31/50\n",
      "391/391 [==============================] - 44s 113ms/step - loss: 0.0707 - acc: 0.9741\n",
      "Epoch 32/50\n",
      "391/391 [==============================] - 45s 114ms/step - loss: 0.0708 - acc: 0.9741\n",
      "Epoch 33/50\n",
      "391/391 [==============================] - 44s 112ms/step - loss: 0.0695 - acc: 0.9744\n",
      "Epoch 34/50\n",
      "391/391 [==============================] - 43s 111ms/step - loss: 0.0669 - acc: 0.9762\n",
      "Epoch 35/50\n",
      "391/391 [==============================] - 44s 112ms/step - loss: 0.0658 - acc: 0.9771\n",
      "Epoch 36/50\n",
      "391/391 [==============================] - 45s 115ms/step - loss: 0.0666 - acc: 0.9764\n",
      "Epoch 37/50\n",
      "391/391 [==============================] - 44s 112ms/step - loss: 0.0647 - acc: 0.9764\n",
      "Epoch 38/50\n",
      "391/391 [==============================] - 44s 113ms/step - loss: 0.0640 - acc: 0.9770\n",
      "Epoch 39/50\n",
      "391/391 [==============================] - 123s 314ms/step - loss: 0.0634 - acc: 0.9775\n",
      "Epoch 40/50\n",
      "391/391 [==============================] - 339s 867ms/step - loss: 0.0620 - acc: 0.9775\n",
      "Epoch 41/50\n",
      "391/391 [==============================] - 48s 124ms/step - loss: 0.0613 - acc: 0.9780\n",
      "Epoch 42/50\n",
      "391/391 [==============================] - 43s 111ms/step - loss: 0.0608 - acc: 0.9783\n",
      "Epoch 43/50\n",
      "391/391 [==============================] - 43s 111ms/step - loss: 0.0596 - acc: 0.9782\n",
      "Epoch 44/50\n",
      "391/391 [==============================] - 43s 110ms/step - loss: 0.0583 - acc: 0.9790\n",
      "Epoch 45/50\n",
      "391/391 [==============================] - 44s 112ms/step - loss: 0.0586 - acc: 0.9796\n",
      "Epoch 46/50\n",
      "391/391 [==============================] - 43s 111ms/step - loss: 0.0573 - acc: 0.9796\n",
      "Epoch 47/50\n",
      "391/391 [==============================] - 43s 111ms/step - loss: 0.0564 - acc: 0.9807\n",
      "Epoch 48/50\n",
      "391/391 [==============================] - 44s 112ms/step - loss: 0.0589 - acc: 0.9793\n",
      "Epoch 49/50\n",
      "391/391 [==============================] - 47s 121ms/step - loss: 0.0567 - acc: 0.9801\n",
      "Epoch 50/50\n",
      "391/391 [==============================] - 47s 120ms/step - loss: 0.0552 - acc: 0.9803\n"
     ]
    },
    {
     "data": {
      "text/plain": [
       "<keras.callbacks.History at 0x1e422b580b8>"
      ]
     },
     "execution_count": 3,
     "metadata": {},
     "output_type": "execute_result"
    }
   ],
   "source": [
    "y_train_car = y_train == 1\n",
    "y_test_car = y_test == 1\n",
    "\n",
    "from keras.preprocessing.image import ImageDataGenerator\n",
    "\n",
    "gen = ImageDataGenerator(width_shift_range=3, height_shift_range=3, zoom_range=0.1, horizontal_flip=True)\n",
    "\n",
    "model.fit_generator(gen.flow(X_train, y_train_car, batch_size=128, shuffle=True), steps_per_epoch=len(gen.flow(X_train, y_train_car, batch_size=128)), epochs=50, workers=8)"
   ]
  },
  {
   "cell_type": "code",
   "execution_count": 4,
   "metadata": {},
   "outputs": [
    {
     "name": "stdout",
     "output_type": "stream",
     "text": [
      "50000/50000 [==============================] - 31s 613us/step\n"
     ]
    },
    {
     "data": {
      "text/plain": [
       "[0.03836353185020387, 0.98756]"
      ]
     },
     "execution_count": 4,
     "metadata": {},
     "output_type": "execute_result"
    }
   ],
   "source": [
    "model.evaluate(X_train,y_train_car)"
   ]
  },
  {
   "cell_type": "code",
   "execution_count": 7,
   "metadata": {},
   "outputs": [
    {
     "name": "stdout",
     "output_type": "stream",
     "text": [
      "10000/10000 [==============================] - 4s 438us/step\n"
     ]
    },
    {
     "data": {
      "text/plain": [
       "[0.05839008382111788, 0.9794]"
      ]
     },
     "execution_count": 7,
     "metadata": {},
     "output_type": "execute_result"
    }
   ],
   "source": [
    "model.evaluate(X_test,y_test_car)"
   ]
  },
  {
   "cell_type": "code",
   "execution_count": 8,
   "metadata": {},
   "outputs": [],
   "source": [
    "model.save(\"Saved Samples/cifar10_car_9998.b5\")"
   ]
  },
  {
   "cell_type": "code",
   "execution_count": null,
   "metadata": {},
   "outputs": [],
   "source": []
  }
 ],
 "metadata": {
  "kernelspec": {
   "display_name": "Python 3",
   "language": "python",
   "name": "python3"
  },
  "language_info": {
   "codemirror_mode": {
    "name": "ipython",
    "version": 3
   },
   "file_extension": ".py",
   "mimetype": "text/x-python",
   "name": "python",
   "nbconvert_exporter": "python",
   "pygments_lexer": "ipython3",
   "version": "3.6.7"
  }
 },
 "nbformat": 4,
 "nbformat_minor": 2
}
