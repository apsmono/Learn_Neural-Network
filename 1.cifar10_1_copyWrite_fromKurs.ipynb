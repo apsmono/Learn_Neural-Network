{
 "cells": [
  {
   "cell_type": "markdown",
   "metadata": {},
   "source": [
    "**NeuralesNetz**"
   ]
  },
  {
   "cell_type": "code",
   "execution_count": 3,
   "metadata": {},
   "outputs": [
    {
     "name": "stderr",
     "output_type": "stream",
     "text": [
      "Using TensorFlow backend.\n"
     ]
    }
   ],
   "source": [
    "from keras.datasets import cifar10"
   ]
  },
  {
   "cell_type": "code",
   "execution_count": 4,
   "metadata": {},
   "outputs": [],
   "source": [
    "(X_train, y_train), (X_test, y_test) = cifar10.load_data()\n",
    "\n",
    "import numpy as np\n",
    "\n",
    "X_train = X_train.astype(np.float32) / 255.\n",
    "X_test = X_test.astype(np.float32) / 255."
   ]
  },
  {
   "cell_type": "code",
   "execution_count": 5,
   "metadata": {},
   "outputs": [
    {
     "data": {
      "text/plain": [
       "(50000, 32, 32, 3)"
      ]
     },
     "execution_count": 5,
     "metadata": {},
     "output_type": "execute_result"
    }
   ],
   "source": [
    "X_train.shape"
   ]
  },
  {
   "cell_type": "code",
   "execution_count": 53,
   "metadata": {},
   "outputs": [],
   "source": [
    "from keras.models import Sequential\n",
    "from keras.layers import Dense, Dropout, Flatten, Conv2D, MaxPooling2D\n",
    "\n",
    "model = Sequential()\n",
    "model.add(Conv2D(16, kernel_size=(3,3), activation=\"relu\", input_shape=(32,32,3), padding=\"same\"))\n",
    "model.add(Conv2D(16, kernel_size=(3,3), activation=\"relu\", padding=\"same\"))\n",
    "model.add(MaxPooling2D(pool_size=(2,2), padding=\"same\"))\n",
    "model.add(Dropout(0.25))\n",
    "\n",
    "model.add(Conv2D(32, kernel_size=(3,3), activation=\"relu\", padding=\"same\"))\n",
    "model.add(Conv2D(32, kernel_size=(3,3), activation=\"relu\", padding=\"same\"))\n",
    "model.add(MaxPooling2D(pool_size=(2,2)))\n",
    "model.add(Dropout(0.25))\n",
    "\n",
    "model.add(Flatten())\n",
    "model.add(Dense(128, activation=\"relu\"))\n",
    "model.add(Dense(64, activation=\"relu\"))\n",
    "model.add(Dense(1, activation=\"sigmoid\"))\n",
    "model.compile(optimizer=\"adam\", loss=\"binary_crossentropy\", metrics=[\"accuracy\"])"
   ]
  },
  {
   "cell_type": "code",
   "execution_count": 54,
   "metadata": {},
   "outputs": [
    {
     "name": "stdout",
     "output_type": "stream",
     "text": [
      "_________________________________________________________________\n",
      "Layer (type)                 Output Shape              Param #   \n",
      "=================================================================\n",
      "conv2d_57 (Conv2D)           (None, 32, 32, 16)        448       \n",
      "_________________________________________________________________\n",
      "conv2d_58 (Conv2D)           (None, 32, 32, 16)        2320      \n",
      "_________________________________________________________________\n",
      "max_pooling2d_23 (MaxPooling (None, 16, 16, 16)        0         \n",
      "_________________________________________________________________\n",
      "dropout_27 (Dropout)         (None, 16, 16, 16)        0         \n",
      "_________________________________________________________________\n",
      "conv2d_59 (Conv2D)           (None, 16, 16, 32)        4640      \n",
      "_________________________________________________________________\n",
      "conv2d_60 (Conv2D)           (None, 16, 16, 32)        9248      \n",
      "_________________________________________________________________\n",
      "max_pooling2d_24 (MaxPooling (None, 8, 8, 32)          0         \n",
      "_________________________________________________________________\n",
      "dropout_28 (Dropout)         (None, 8, 8, 32)          0         \n",
      "_________________________________________________________________\n",
      "flatten_5 (Flatten)          (None, 2048)              0         \n",
      "_________________________________________________________________\n",
      "dense_17 (Dense)             (None, 128)               262272    \n",
      "_________________________________________________________________\n",
      "dense_18 (Dense)             (None, 64)                8256      \n",
      "_________________________________________________________________\n",
      "dense_19 (Dense)             (None, 1)                 65        \n",
      "=================================================================\n",
      "Total params: 287,249\n",
      "Trainable params: 287,249\n",
      "Non-trainable params: 0\n",
      "_________________________________________________________________\n"
     ]
    }
   ],
   "source": [
    "model.summary()"
   ]
  },
  {
   "cell_type": "code",
   "execution_count": 56,
   "metadata": {},
   "outputs": [
    {
     "name": "stdout",
     "output_type": "stream",
     "text": [
      "Epoch 1/50\n",
      "50000/50000 [==============================] - 25s 504us/step - loss: 0.0584 - acc: 0.9779\n",
      "Epoch 2/50\n",
      "50000/50000 [==============================] - 25s 500us/step - loss: 0.0545 - acc: 0.9802\n",
      "Epoch 3/50\n",
      "50000/50000 [==============================] - 25s 501us/step - loss: 0.0489 - acc: 0.9824\n",
      "Epoch 4/50\n",
      "50000/50000 [==============================] - 25s 504us/step - loss: 0.0452 - acc: 0.9836\n",
      "Epoch 5/50\n",
      "50000/50000 [==============================] - 26s 524us/step - loss: 0.0417 - acc: 0.9845\n",
      "Epoch 6/50\n",
      "50000/50000 [==============================] - 25s 505us/step - loss: 0.0388 - acc: 0.9863\n",
      "Epoch 7/50\n",
      "50000/50000 [==============================] - 25s 502us/step - loss: 0.0340 - acc: 0.9876\n",
      "Epoch 8/50\n",
      "50000/50000 [==============================] - 25s 503us/step - loss: 0.0326 - acc: 0.9877\n",
      "Epoch 9/50\n",
      "50000/50000 [==============================] - 25s 502us/step - loss: 0.0306 - acc: 0.9888\n",
      "Epoch 10/50\n",
      "50000/50000 [==============================] - 25s 502us/step - loss: 0.0308 - acc: 0.9889\n",
      "Epoch 11/50\n",
      "50000/50000 [==============================] - 25s 502us/step - loss: 0.0266 - acc: 0.9901\n",
      "Epoch 12/50\n",
      "50000/50000 [==============================] - 25s 503us/step - loss: 0.0238 - acc: 0.9916\n",
      "Epoch 13/50\n",
      "50000/50000 [==============================] - 25s 502us/step - loss: 0.0232 - acc: 0.9921\n",
      "Epoch 14/50\n",
      "50000/50000 [==============================] - 25s 502us/step - loss: 0.0237 - acc: 0.9914\n",
      "Epoch 15/50\n",
      "50000/50000 [==============================] - 25s 509us/step - loss: 0.0211 - acc: 0.9927\n",
      "Epoch 16/50\n",
      "50000/50000 [==============================] - 26s 526us/step - loss: 0.0231 - acc: 0.99084s \n",
      "Epoch 17/50\n",
      "50000/50000 [==============================] - 27s 531us/step - loss: 0.0171 - acc: 0.9933\n",
      "Epoch 18/50\n",
      "50000/50000 [==============================] - 27s 541us/step - loss: 0.0187 - acc: 0.9936\n",
      "Epoch 19/50\n",
      "50000/50000 [==============================] - 26s 516us/step - loss: 0.0174 - acc: 0.9934\n",
      "Epoch 20/50\n",
      "50000/50000 [==============================] - 25s 497us/step - loss: 0.0152 - acc: 0.9945\n",
      "Epoch 21/50\n",
      "50000/50000 [==============================] - 25s 497us/step - loss: 0.0170 - acc: 0.99370s - loss: 0.0171 - acc\n",
      "Epoch 22/50\n",
      "50000/50000 [==============================] - 26s 514us/step - loss: 0.0156 - acc: 0.99460s - loss: 0.0157 -\n",
      "Epoch 23/50\n",
      "50000/50000 [==============================] - 26s 512us/step - loss: 0.0164 - acc: 0.9942\n",
      "Epoch 24/50\n",
      "50000/50000 [==============================] - 26s 521us/step - loss: 0.0144 - acc: 0.9947\n",
      "Epoch 25/50\n",
      "50000/50000 [==============================] - 26s 516us/step - loss: 0.0136 - acc: 0.9950\n",
      "Epoch 26/50\n",
      "50000/50000 [==============================] - 26s 518us/step - loss: 0.0138 - acc: 0.99500s - loss: 0.013\n",
      "Epoch 27/50\n",
      "50000/50000 [==============================] - 25s 508us/step - loss: 0.0130 - acc: 0.9954\n",
      "Epoch 28/50\n",
      "50000/50000 [==============================] - 29s 579us/step - loss: 0.0134 - acc: 0.9953\n",
      "Epoch 29/50\n",
      "50000/50000 [==============================] - 26s 522us/step - loss: 0.0124 - acc: 0.9958\n",
      "Epoch 30/50\n",
      "50000/50000 [==============================] - 26s 514us/step - loss: 0.0122 - acc: 0.9958\n",
      "Epoch 31/50\n",
      "50000/50000 [==============================] - 26s 514us/step - loss: 0.0119 - acc: 0.99573s - loss: 0.01\n",
      "Epoch 32/50\n",
      "50000/50000 [==============================] - 25s 502us/step - loss: 0.0117 - acc: 0.9959\n",
      "Epoch 33/50\n",
      "50000/50000 [==============================] - 25s 504us/step - loss: 0.0112 - acc: 0.9958\n",
      "Epoch 34/50\n",
      "50000/50000 [==============================] - 25s 497us/step - loss: 0.0122 - acc: 0.9957\n",
      "Epoch 35/50\n",
      "50000/50000 [==============================] - 25s 494us/step - loss: 0.0122 - acc: 0.9958\n",
      "Epoch 36/50\n",
      "50000/50000 [==============================] - 25s 495us/step - loss: 0.0087 - acc: 0.9970\n",
      "Epoch 37/50\n",
      "50000/50000 [==============================] - 25s 509us/step - loss: 0.0105 - acc: 0.9962\n",
      "Epoch 38/50\n",
      "50000/50000 [==============================] - 26s 513us/step - loss: 0.0096 - acc: 0.9966\n",
      "Epoch 39/50\n",
      "50000/50000 [==============================] - 26s 510us/step - loss: 0.0084 - acc: 0.9971\n",
      "Epoch 40/50\n",
      "50000/50000 [==============================] - 26s 517us/step - loss: 0.0090 - acc: 0.9967\n",
      "Epoch 41/50\n",
      "50000/50000 [==============================] - 25s 504us/step - loss: 0.0121 - acc: 0.9961\n",
      "Epoch 42/50\n",
      "50000/50000 [==============================] - 25s 501us/step - loss: 0.0111 - acc: 0.9961\n",
      "Epoch 43/50\n",
      "50000/50000 [==============================] - 26s 510us/step - loss: 0.0090 - acc: 0.9970\n",
      "Epoch 44/50\n",
      "50000/50000 [==============================] - 25s 505us/step - loss: 0.0099 - acc: 0.9968\n",
      "Epoch 45/50\n",
      "50000/50000 [==============================] - 25s 503us/step - loss: 0.0081 - acc: 0.9971\n",
      "Epoch 46/50\n",
      "50000/50000 [==============================] - 25s 505us/step - loss: 0.0089 - acc: 0.9966\n",
      "Epoch 47/50\n",
      "50000/50000 [==============================] - 26s 515us/step - loss: 0.0092 - acc: 0.9969\n",
      "Epoch 48/50\n",
      "50000/50000 [==============================] - 26s 517us/step - loss: 0.0081 - acc: 0.99716s - loss: 0.0087\n",
      "Epoch 49/50\n",
      "50000/50000 [==============================] - 26s 514us/step - loss: 0.0081 - acc: 0.9975\n",
      "Epoch 50/50\n",
      "50000/50000 [==============================] - 25s 509us/step - loss: 0.0089 - acc: 0.9968\n"
     ]
    },
    {
     "data": {
      "text/plain": [
       "<keras.callbacks.History at 0x294807b72b0>"
      ]
     },
     "execution_count": 56,
     "metadata": {},
     "output_type": "execute_result"
    }
   ],
   "source": [
    "y_train_car = y_train == 1\n",
    "model.fit(X_train, y_train_car, batch_size=128, epochs=50, shuffle=True)"
   ]
  },
  {
   "cell_type": "code",
   "execution_count": 57,
   "metadata": {},
   "outputs": [
    {
     "name": "stdout",
     "output_type": "stream",
     "text": [
      "50000/50000 [==============================] - 13s 256us/step\n",
      "[0.00112018746659538, 0.99976]\n"
     ]
    }
   ],
   "source": [
    "print(model.evaluate(X_train, y_train_car))"
   ]
  },
  {
   "cell_type": "code",
   "execution_count": 58,
   "metadata": {},
   "outputs": [
    {
     "name": "stdout",
     "output_type": "stream",
     "text": [
      "10000/10000 [==============================] - 3s 279us/step\n",
      "[0.10360905563575507, 0.9769]\n"
     ]
    }
   ],
   "source": [
    "y_test_car = y_test == 1\n",
    "\n",
    "print(model.evaluate(X_test, y_test_car))"
   ]
  },
  {
   "cell_type": "code",
   "execution_count": 59,
   "metadata": {},
   "outputs": [],
   "source": [
    "from keras.models import Sequential\n",
    "from keras.layers import Dense, Dropout, Flatten, Conv2D, MaxPooling2D\n",
    "\n",
    "model = Sequential()\n",
    "model.add(Conv2D(32, kernel_size=(3,3), activation=\"relu\", input_shape=(32,32,3), padding=\"same\"))\n",
    "model.add(Conv2D(32, kernel_size=(3,3), activation=\"relu\", padding=\"same\"))\n",
    "model.add(MaxPooling2D(pool_size=(2,2), padding=\"same\"))\n",
    "model.add(Dropout(0.25))\n",
    "\n",
    "model.add(Conv2D(64, kernel_size=(3,3), activation=\"relu\", padding=\"same\"))\n",
    "model.add(Conv2D(64, kernel_size=(3,3), activation=\"relu\", padding=\"same\"))\n",
    "model.add(MaxPooling2D(pool_size=(2,2), padding=\"same\"))\n",
    "model.add(Dropout(0.25))\n",
    "\n",
    "model.add(Flatten())\n",
    "model.add(Dense(256, activation=\"relu\"))\n",
    "model.add(Dense(64, activation=\"relu\"))\n",
    "model.add(Dense(1, activation=\"sigmoid\"))\n",
    "\n",
    "model.compile(optimizer=\"adam\", loss=\"binary_crossentropy\", metrics=[\"accuracy\"])"
   ]
  },
  {
   "cell_type": "code",
   "execution_count": 60,
   "metadata": {},
   "outputs": [
    {
     "name": "stdout",
     "output_type": "stream",
     "text": [
      "Epoch 1/30\n",
      "50000/50000 [==============================] - 48s 967us/step - loss: 0.2070 - acc: 0.9208\n",
      "Epoch 2/30\n",
      "50000/50000 [==============================] - 46s 920us/step - loss: 0.1326 - acc: 0.9482\n",
      "Epoch 3/30\n",
      "50000/50000 [==============================] - 46s 923us/step - loss: 0.1063 - acc: 0.9609\n",
      "Epoch 4/30\n",
      "50000/50000 [==============================] - 46s 923us/step - loss: 0.0854 - acc: 0.9691\n",
      "Epoch 5/30\n",
      "50000/50000 [==============================] - 46s 919us/step - loss: 0.0727 - acc: 0.9735\n",
      "Epoch 6/30\n",
      "50000/50000 [==============================] - 46s 919us/step - loss: 0.0622 - acc: 0.9782\n",
      "Epoch 7/30\n",
      "50000/50000 [==============================] - 46s 921us/step - loss: 0.0543 - acc: 0.9801\n",
      "Epoch 8/30\n",
      "50000/50000 [==============================] - 46s 919us/step - loss: 0.0462 - acc: 0.9833\n",
      "Epoch 9/30\n",
      "50000/50000 [==============================] - 46s 921us/step - loss: 0.0404 - acc: 0.9856\n",
      "Epoch 10/30\n",
      "50000/50000 [==============================] - 46s 920us/step - loss: 0.0358 - acc: 0.9870\n",
      "Epoch 11/30\n",
      "50000/50000 [==============================] - 46s 927us/step - loss: 0.0329 - acc: 0.9883\n",
      "Epoch 12/30\n",
      "50000/50000 [==============================] - 46s 920us/step - loss: 0.0272 - acc: 0.9908\n",
      "Epoch 13/30\n",
      "50000/50000 [==============================] - 46s 918us/step - loss: 0.0249 - acc: 0.9911\n",
      "Epoch 14/30\n",
      "50000/50000 [==============================] - 46s 921us/step - loss: 0.0214 - acc: 0.9924\n",
      "Epoch 15/30\n",
      "50000/50000 [==============================] - 46s 920us/step - loss: 0.0201 - acc: 0.9921\n",
      "Epoch 16/30\n",
      "50000/50000 [==============================] - 46s 924us/step - loss: 0.0170 - acc: 0.9940\n",
      "Epoch 17/30\n",
      "50000/50000 [==============================] - 46s 923us/step - loss: 0.0166 - acc: 0.9943\n",
      "Epoch 18/30\n",
      "50000/50000 [==============================] - 46s 921us/step - loss: 0.0149 - acc: 0.9946\n",
      "Epoch 19/30\n",
      "50000/50000 [==============================] - 46s 922us/step - loss: 0.0147 - acc: 0.9949\n",
      "Epoch 20/30\n",
      "50000/50000 [==============================] - 46s 921us/step - loss: 0.0134 - acc: 0.9952\n",
      "Epoch 21/30\n",
      "50000/50000 [==============================] - 46s 924us/step - loss: 0.0133 - acc: 0.9955\n",
      "Epoch 22/30\n",
      "50000/50000 [==============================] - 46s 922us/step - loss: 0.0120 - acc: 0.9961\n",
      "Epoch 23/30\n",
      "50000/50000 [==============================] - 46s 923us/step - loss: 0.0112 - acc: 0.9962\n",
      "Epoch 24/30\n",
      "50000/50000 [==============================] - 46s 924us/step - loss: 0.0112 - acc: 0.9961\n",
      "Epoch 25/30\n",
      "50000/50000 [==============================] - 46s 921us/step - loss: 0.0103 - acc: 0.9962\n",
      "Epoch 26/30\n",
      "50000/50000 [==============================] - 46s 922us/step - loss: 0.0111 - acc: 0.9959\n",
      "Epoch 27/30\n",
      "50000/50000 [==============================] - 46s 922us/step - loss: 0.0097 - acc: 0.9971\n",
      "Epoch 28/30\n",
      "50000/50000 [==============================] - 46s 922us/step - loss: 0.0080 - acc: 0.9973\n",
      "Epoch 29/30\n",
      "50000/50000 [==============================] - 46s 923us/step - loss: 0.0095 - acc: 0.9966\n",
      "Epoch 30/30\n",
      "50000/50000 [==============================] - 46s 923us/step - loss: 0.0099 - acc: 0.9969\n"
     ]
    },
    {
     "data": {
      "text/plain": [
       "<keras.callbacks.History at 0x29482e97320>"
      ]
     },
     "execution_count": 60,
     "metadata": {},
     "output_type": "execute_result"
    }
   ],
   "source": [
    "y_train_car = y_train == 1\n",
    "model.fit(X_train, y_train_car, batch_size=128, epochs=30, shuffle=True)"
   ]
  },
  {
   "cell_type": "code",
   "execution_count": 61,
   "metadata": {},
   "outputs": [
    {
     "name": "stdout",
     "output_type": "stream",
     "text": [
      "50000/50000 [==============================] - 19s 387us/step\n",
      "[0.0029364126861427214, 0.99948]\n"
     ]
    }
   ],
   "source": [
    "print(model.evaluate(X_train, y_train_car))"
   ]
  },
  {
   "cell_type": "code",
   "execution_count": 62,
   "metadata": {},
   "outputs": [
    {
     "name": "stdout",
     "output_type": "stream",
     "text": [
      "10000/10000 [==============================] - 4s 386us/step\n",
      "[0.084275824705977, 0.9778]\n"
     ]
    }
   ],
   "source": [
    "y_test_car = y_test == 1\n",
    "\n",
    "print(model.evaluate(X_test, y_test_car))"
   ]
  },
  {
   "cell_type": "code",
   "execution_count": 18,
   "metadata": {},
   "outputs": [],
   "source": [
    "from keras.models import Sequential\n",
    "from keras.layers import Dense, Dropout, Flatten, Conv2D, MaxPooling2D\n",
    "\n",
    "model = Sequential()\n",
    "model.add(Conv2D(32, kernel_size=(3,3), activation=\"relu\", input_shape=(32,32,3), padding=\"same\"))\n",
    "model.add(Conv2D(32, kernel_size=(3,3), activation=\"relu\", padding=\"same\"))\n",
    "model.add(MaxPooling2D(pool_size=(2,2), padding=\"same\"))\n",
    "model.add(Dropout(0.25))\n",
    "\n",
    "model.add(Conv2D(64, kernel_size=(3,3), activation=\"relu\", padding=\"same\"))\n",
    "model.add(Conv2D(64, kernel_size=(3,3), activation=\"relu\", padding=\"same\"))\n",
    "model.add(MaxPooling2D(pool_size=(2,2), padding=\"same\"))\n",
    "model.add(Dropout(0.25))\n",
    "\n",
    "model.add(Flatten())\n",
    "model.add(Dense(256, activation=\"relu\"))\n",
    "model.add(Dense(64, activation=\"relu\"))\n",
    "model.add(Dense(32, activation=\"sigmoid\"))\n",
    "model.add(Dense(10, activation=\"sigmoid\"))\n",
    "\n",
    "model.compile(optimizer=\"rmsprop\", loss=\"categorical_crossentropy\", metrics=[\"accuracy\"])"
   ]
  },
  {
   "cell_type": "code",
   "execution_count": 8,
   "metadata": {
    "scrolled": true
   },
   "outputs": [
    {
     "name": "stdout",
     "output_type": "stream",
     "text": [
      "_________________________________________________________________\n",
      "Layer (type)                 Output Shape              Param #   \n",
      "=================================================================\n",
      "conv2d_1 (Conv2D)            (None, 32, 32, 32)        896       \n",
      "_________________________________________________________________\n",
      "conv2d_2 (Conv2D)            (None, 32, 32, 32)        9248      \n",
      "_________________________________________________________________\n",
      "max_pooling2d_1 (MaxPooling2 (None, 16, 16, 32)        0         \n",
      "_________________________________________________________________\n",
      "dropout_1 (Dropout)          (None, 16, 16, 32)        0         \n",
      "_________________________________________________________________\n",
      "conv2d_3 (Conv2D)            (None, 16, 16, 64)        18496     \n",
      "_________________________________________________________________\n",
      "conv2d_4 (Conv2D)            (None, 16, 16, 64)        36928     \n",
      "_________________________________________________________________\n",
      "max_pooling2d_2 (MaxPooling2 (None, 8, 8, 64)          0         \n",
      "_________________________________________________________________\n",
      "dropout_2 (Dropout)          (None, 8, 8, 64)          0         \n",
      "_________________________________________________________________\n",
      "flatten_1 (Flatten)          (None, 4096)              0         \n",
      "_________________________________________________________________\n",
      "dense_1 (Dense)              (None, 256)               1048832   \n",
      "_________________________________________________________________\n",
      "dense_2 (Dense)              (None, 64)                16448     \n",
      "_________________________________________________________________\n",
      "dense_3 (Dense)              (None, 10)                650       \n",
      "=================================================================\n",
      "Total params: 1,131,498\n",
      "Trainable params: 1,131,498\n",
      "Non-trainable params: 0\n",
      "_________________________________________________________________\n"
     ]
    }
   ],
   "source": [
    "model.summary()"
   ]
  },
  {
   "cell_type": "code",
   "execution_count": 19,
   "metadata": {
    "scrolled": true
   },
   "outputs": [
    {
     "name": "stdout",
     "output_type": "stream",
     "text": [
      "Epoch 1/30\n",
      "50000/50000 [==============================] - 45s 903us/step - loss: 1.9403 - acc: 0.3100\n",
      "Epoch 2/30\n",
      "50000/50000 [==============================] - 44s 886us/step - loss: 1.4927 - acc: 0.4760\n",
      "Epoch 3/30\n",
      "50000/50000 [==============================] - 44s 885us/step - loss: 1.2332 - acc: 0.5728\n",
      "Epoch 4/30\n",
      "50000/50000 [==============================] - 44s 886us/step - loss: 1.0543 - acc: 0.6365\n",
      "Epoch 5/30\n",
      "50000/50000 [==============================] - 46s 923us/step - loss: 0.9175 - acc: 0.6841\n",
      "Epoch 6/30\n",
      "50000/50000 [==============================] - 46s 929us/step - loss: 0.8119 - acc: 0.7237\n",
      "Epoch 7/30\n",
      "50000/50000 [==============================] - 45s 891us/step - loss: 0.7210 - acc: 0.7533\n",
      "Epoch 8/30\n",
      "50000/50000 [==============================] - 44s 885us/step - loss: 0.6380 - acc: 0.7820\n",
      "Epoch 9/30\n",
      "50000/50000 [==============================] - 46s 928us/step - loss: 0.5741 - acc: 0.8050\n",
      "Epoch 10/30\n",
      "50000/50000 [==============================] - 46s 920us/step - loss: 0.5160 - acc: 0.8243\n",
      "Epoch 11/30\n",
      "50000/50000 [==============================] - 46s 926us/step - loss: 0.4699 - acc: 0.8412\n",
      "Epoch 12/30\n",
      "50000/50000 [==============================] - 46s 914us/step - loss: 0.4193 - acc: 0.8587\n",
      "Epoch 13/30\n",
      "50000/50000 [==============================] - 45s 896us/step - loss: 0.3786 - acc: 0.8717\n",
      "Epoch 14/30\n",
      "50000/50000 [==============================] - 45s 891us/step - loss: 0.3476 - acc: 0.8815\n",
      "Epoch 15/30\n",
      "50000/50000 [==============================] - 44s 887us/step - loss: 0.3149 - acc: 0.8928\n",
      "Epoch 16/30\n",
      "50000/50000 [==============================] - 44s 887us/step - loss: 0.2853 - acc: 0.9038\n",
      "Epoch 17/30\n",
      "50000/50000 [==============================] - 44s 886us/step - loss: 0.2679 - acc: 0.9110\n",
      "Epoch 18/30\n",
      "50000/50000 [==============================] - 44s 886us/step - loss: 0.2441 - acc: 0.9181\n",
      "Epoch 19/30\n",
      "50000/50000 [==============================] - 44s 887us/step - loss: 0.2299 - acc: 0.9241\n",
      "Epoch 20/30\n",
      "50000/50000 [==============================] - 44s 886us/step - loss: 0.2160 - acc: 0.9274\n",
      "Epoch 21/30\n",
      "50000/50000 [==============================] - 44s 886us/step - loss: 0.2005 - acc: 0.9333\n",
      "Epoch 22/30\n",
      "50000/50000 [==============================] - 44s 886us/step - loss: 0.1952 - acc: 0.9354\n",
      "Epoch 23/30\n",
      "50000/50000 [==============================] - 45s 895us/step - loss: 0.1814 - acc: 0.9405\n",
      "Epoch 24/30\n",
      "50000/50000 [==============================] - 45s 896us/step - loss: 0.1772 - acc: 0.9418\n",
      "Epoch 25/30\n",
      "50000/50000 [==============================] - 45s 894us/step - loss: 0.1669 - acc: 0.9450\n",
      "Epoch 26/30\n",
      "50000/50000 [==============================] - 45s 896us/step - loss: 0.1554 - acc: 0.9488\n",
      "Epoch 27/30\n",
      "50000/50000 [==============================] - 45s 895us/step - loss: 0.1543 - acc: 0.9502\n",
      "Epoch 28/30\n",
      "50000/50000 [==============================] - 45s 895us/step - loss: 0.1516 - acc: 0.9517\n",
      "Epoch 29/30\n",
      "50000/50000 [==============================] - 45s 895us/step - loss: 0.1451 - acc: 0.9542\n",
      "Epoch 30/30\n",
      "50000/50000 [==============================] - 45s 895us/step - loss: 0.1413 - acc: 0.9554\n"
     ]
    },
    {
     "data": {
      "text/plain": [
       "<keras.callbacks.History at 0x1c0cdadf128>"
      ]
     },
     "execution_count": 19,
     "metadata": {},
     "output_type": "execute_result"
    }
   ],
   "source": [
    "from keras.utils import to_categorical\n",
    "y_train_cat = to_categorical(y_train)\n",
    "model.fit(X_train, y_train_cat, batch_size=128, epochs=30, shuffle=True)"
   ]
  },
  {
   "cell_type": "code",
   "execution_count": 20,
   "metadata": {
    "scrolled": true
   },
   "outputs": [
    {
     "name": "stdout",
     "output_type": "stream",
     "text": [
      "50000/50000 [==============================] - 19s 372us/step\n",
      "[0.03774259332746267, 0.9896]\n"
     ]
    }
   ],
   "source": [
    "print(model.evaluate(X_train, y_train_cat))"
   ]
  },
  {
   "cell_type": "code",
   "execution_count": 21,
   "metadata": {
    "scrolled": true
   },
   "outputs": [
    {
     "name": "stdout",
     "output_type": "stream",
     "text": [
      "10000/10000 [==============================] - 4s 376us/step\n",
      "[1.0974120537757874, 0.754]\n"
     ]
    }
   ],
   "source": [
    "y_test_cat = to_categorical(y_test)\n",
    "\n",
    "print(model.evaluate(X_test, y_test_cat))"
   ]
  },
  {
   "cell_type": "code",
   "execution_count": 17,
   "metadata": {},
   "outputs": [
    {
     "data": {
      "text/plain": [
       "array([0], dtype=uint8)"
      ]
     },
     "execution_count": 17,
     "metadata": {},
     "output_type": "execute_result"
    }
   ],
   "source": [
    "min(y_train)"
   ]
  },
  {
   "cell_type": "code",
   "execution_count": 22,
   "metadata": {},
   "outputs": [
    {
     "name": "stdout",
     "output_type": "stream",
     "text": [
      "Collecting pandas_ml\n",
      "  Downloading https://files.pythonhosted.org/packages/ae/72/6d90debfcb9ea74ec00927fa7ed0204dcc560b1f9ffcd8b239daa7fd106d/pandas_ml-0.6.1-py3-none-any.whl (100kB)\n",
      "Requirement already satisfied: pandas>=0.19.0 in c:\\programdata\\anaconda3\\envs\\python36\\lib\\site-packages (from pandas_ml) (0.23.4)\n",
      "Collecting enum34 (from pandas_ml)\n",
      "  Downloading https://files.pythonhosted.org/packages/af/42/cb9355df32c69b553e72a2e28daee25d1611d2c0d9c272aa1d34204205b2/enum34-1.1.6-py3-none-any.whl\n",
      "Requirement already satisfied: python-dateutil>=2.5.0 in c:\\programdata\\anaconda3\\envs\\python36\\lib\\site-packages (from pandas>=0.19.0->pandas_ml) (2.7.5)\n",
      "Requirement already satisfied: pytz>=2011k in c:\\programdata\\anaconda3\\envs\\python36\\lib\\site-packages (from pandas>=0.19.0->pandas_ml) (2018.7)\n",
      "Requirement already satisfied: numpy>=1.9.0 in c:\\programdata\\anaconda3\\envs\\python36\\lib\\site-packages (from pandas>=0.19.0->pandas_ml) (1.15.4)\n",
      "Requirement already satisfied: six>=1.5 in c:\\programdata\\anaconda3\\envs\\python36\\lib\\site-packages (from python-dateutil>=2.5.0->pandas>=0.19.0->pandas_ml) (1.12.0)\n",
      "Installing collected packages: enum34, pandas-ml\n",
      "Successfully installed enum34-1.1.6 pandas-ml-0.6.1\n"
     ]
    }
   ],
   "source": [
    "#Confusion Matrix\n",
    "!pip install pandas_ml"
   ]
  },
  {
   "cell_type": "code",
   "execution_count": 35,
   "metadata": {},
   "outputs": [
    {
     "data": {
      "text/plain": [
       "Predicted     0    1    2     3    4    5    6    7     8     9  __all__\n",
       "Actual                                                                  \n",
       "0           826   15   23    16   14    5    3    3    58    37     1000\n",
       "1            17  865    0     4    1    1    7    1    25    79     1000\n",
       "2            80   10  564    92   89   63   47   17    25    13     1000\n",
       "3            29   13   37   635   46  125   42   24    23    26     1000\n",
       "4            28    7   52    70  715   36   34   40     9     9     1000\n",
       "5            17    8   25   231   24  621   25   27    11    11     1000\n",
       "6             5    5   26    92   26   25  799    2    13     7     1000\n",
       "7            29    5   14    52   69   47    5  754     5    20     1000\n",
       "8            43   12    5     9    4    4    5    1   897    20     1000\n",
       "9            27   59    1     9    4    3    5    4    24   864     1000\n",
       "__all__    1101  999  747  1210  992  930  972  873  1090  1086    10000"
      ]
     },
     "execution_count": 35,
     "metadata": {},
     "output_type": "execute_result"
    }
   ],
   "source": [
    "from pandas_ml import ConfusionMatrix\n",
    "\n",
    "ConfusionMatrix(np.argmax(y_test_cat, axis=1), np.argmax(model.predict(X_test), axis=1))"
   ]
  },
  {
   "cell_type": "code",
   "execution_count": 34,
   "metadata": {},
   "outputs": [
    {
     "data": {
      "text/plain": [
       "array([[2.3961969e-04, 1.3450521e-05, 3.7245052e-05, ..., 1.1623715e-05,\n",
       "        1.5223394e-04, 4.3899632e-05],\n",
       "       [1.0606130e-04, 2.8228422e-05, 3.6942325e-05, ..., 5.2302312e-06,\n",
       "        2.3083265e-01, 2.4095214e-06],\n",
       "       [5.5267927e-03, 1.6042321e-03, 1.6166920e-06, ..., 1.3750957e-05,\n",
       "        7.8127071e-02, 1.4044310e-03],\n",
       "       ...,\n",
       "       [2.4181909e-06, 3.0583913e-06, 1.2505769e-04, ..., 3.1614472e-04,\n",
       "        6.1189899e-06, 2.2467790e-05],\n",
       "       [3.0663557e-06, 3.5207856e-02, 4.3874392e-05, ..., 3.6985218e-04,\n",
       "        1.3101219e-05, 2.9323000e-05],\n",
       "       [1.5021296e-05, 1.5370794e-06, 2.1349329e-05, ..., 1.7858036e-01,\n",
       "        4.6996543e-06, 2.5092097e-06]], dtype=float32)"
      ]
     },
     "execution_count": 34,
     "metadata": {},
     "output_type": "execute_result"
    }
   ],
   "source": [
    "model.predict(X_test).shape"
   ]
  },
  {
   "cell_type": "code",
   "execution_count": 39,
   "metadata": {},
   "outputs": [
    {
     "name": "stdout",
     "output_type": "stream",
     "text": [
      "50000/50000 [==============================] - 25s 492us/step\n",
      "[0.03774259332746267, 0.9896]\n",
      "10000/10000 [==============================] - 5s 475us/step\n",
      "[1.0974120537757874, 0.754]\n"
     ]
    }
   ],
   "source": [
    "print(model.evaluate(X_train, y_train_cat))\n",
    "print(model.evaluate(X_test, y_test_cat))"
   ]
  },
  {
   "cell_type": "code",
   "execution_count": 37,
   "metadata": {},
   "outputs": [
    {
     "name": "stdout",
     "output_type": "stream",
     "text": [
      "[6]\n"
     ]
    },
    {
     "data": {
      "image/png": "[encoded data removed]",
      "text/plain": [
       "<Figure size 432x288 with 1 Axes>"
      ]
     },
     "metadata": {
      "needs_background": "light"
     },
     "output_type": "display_data"
    }
   ],
   "source": [
    "%matplotlib inline\n",
    "\n",
    "import matplotlib.pyplot as plt\n",
    "\n",
    "num = 5;\n",
    "print(y_test[num])\n",
    "plt.imshow(X_test[num])\n",
    "plt.show()"
   ]
  },
  {
   "cell_type": "code",
   "execution_count": null,
   "metadata": {},
   "outputs": [],
   "source": []
  }
 ],
 "metadata": {
  "kernelspec": {
   "display_name": "Python 3",
   "language": "python",
   "name": "python3"
  },
  "language_info": {
   "codemirror_mode": {
    "name": "ipython",
    "version": 3
   },
   "file_extension": ".py",
   "mimetype": "text/x-python",
   "name": "python",
   "nbconvert_exporter": "python",
   "pygments_lexer": "ipython3",
   "version": "3.6.7"
  }
 },
 "nbformat": 4,
 "nbformat_minor": 2
}
