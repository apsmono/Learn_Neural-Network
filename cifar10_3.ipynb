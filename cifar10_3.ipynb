{
 "cells": [
  {
   "cell_type": "code",
   "execution_count": 1,
   "metadata": {},
   "outputs": [
    {
     "name": "stderr",
     "output_type": "stream",
     "text": [
      "Using TensorFlow backend.\n"
     ]
    }
   ],
   "source": [
    "from keras.datasets import cifar10\n",
    "import numpy as np\n",
    "\n",
    "(X_train, y_train), (X_test,y_test) = cifar10.load_data()\n",
    "\n",
    "X_train = X_train/255.\n",
    "X_test = X_test/255."
   ]
  },
  {
   "cell_type": "code",
   "execution_count": 2,
   "metadata": {},
   "outputs": [],
   "source": [
    "from keras.utils import to_categorical\n",
    "\n",
    "y_train_cat = to_categorical(y_train)\n",
    "y_test_cat = to_categorical(y_test)"
   ]
  },
  {
   "cell_type": "code",
   "execution_count": 3,
   "metadata": {},
   "outputs": [],
   "source": [
    "from keras.models import Sequential\n",
    "from keras.layers import Dense, Flatten, Dropout, Conv2D, MaxPooling2D\n",
    "\n",
    "model = Sequential()\n",
    "\n",
    "model.add(Conv2D(32, kernel_size=(3,3), input_shape=(32,32,3), activation=\"relu\", padding=\"same\"))\n",
    "model.add(Conv2D(32, kernel_size=(3,3), activation=\"relu\", padding=\"same\"))\n",
    "model.add(MaxPooling2D(pool_size=(2,2), padding=\"same\"))\n",
    "model.add(Dropout(0.2))\n",
    "\n",
    "model.add(Conv2D(64, kernel_size=(3,3), activation=\"relu\", padding=\"same\"))\n",
    "model.add(Conv2D(64, kernel_size=(3,3), activation=\"relu\", padding=\"same\"))\n",
    "model.add(MaxPooling2D(pool_size=(2,2), padding=\"same\"))\n",
    "model.add(Dropout(0.2))\n",
    "\n",
    "model.add(Flatten())\n",
    "model.add(Dense(256, activation=\"relu\"))\n",
    "model.add(Dense(128, activation=\"relu\"))\n",
    "model.add(Dense(10, activation=\"sigmoid\"))\n",
    "\n",
    "model.compile(optimizer=\"rmsprop\", loss=\"categorical_crossentropy\", metrics=[\"accuracy\"])"
   ]
  },
  {
   "cell_type": "code",
   "execution_count": 4,
   "metadata": {
    "scrolled": true
   },
   "outputs": [
    {
     "name": "stdout",
     "output_type": "stream",
     "text": [
      "Epoch 1/30\n",
      "50000/50000 [==============================] - 55s 1ms/step - loss: 1.7304 - acc: 0.3715\n",
      "Epoch 2/30\n",
      "50000/50000 [==============================] - 56s 1ms/step - loss: 1.2611 - acc: 0.5512\n",
      "Epoch 3/30\n",
      "50000/50000 [==============================] - 48s 951us/step - loss: 1.0353 - acc: 0.6333\n",
      "Epoch 4/30\n",
      "50000/50000 [==============================] - 54s 1ms/step - loss: 0.8733 - acc: 0.6917\n",
      "Epoch 5/30\n",
      "50000/50000 [==============================] - 46s 926us/step - loss: 0.7513 - acc: 0.7359\n",
      "Epoch 6/30\n",
      "50000/50000 [==============================] - 48s 959us/step - loss: 0.6414 - acc: 0.7754\n",
      "Epoch 7/30\n",
      "50000/50000 [==============================] - 47s 935us/step - loss: 0.5592 - acc: 0.8029\n",
      "Epoch 8/30\n",
      "50000/50000 [==============================] - 46s 913us/step - loss: 0.4819 - acc: 0.8310\n",
      "Epoch 9/30\n",
      "50000/50000 [==============================] - 46s 914us/step - loss: 0.4141 - acc: 0.8560\n",
      "Epoch 10/30\n",
      "50000/50000 [==============================] - 46s 929us/step - loss: 0.3590 - acc: 0.8730\n",
      "Epoch 11/30\n",
      "50000/50000 [==============================] - 47s 939us/step - loss: 0.3092 - acc: 0.8924\n",
      "Epoch 12/30\n",
      "50000/50000 [==============================] - 46s 922us/step - loss: 0.2658 - acc: 0.9057\n",
      "Epoch 13/30\n",
      "50000/50000 [==============================] - 46s 926us/step - loss: 0.2368 - acc: 0.9165\n",
      "Epoch 14/30\n",
      "50000/50000 [==============================] - 46s 919us/step - loss: 0.2084 - acc: 0.9257\n",
      "Epoch 15/30\n",
      "50000/50000 [==============================] - 48s 953us/step - loss: 0.1911 - acc: 0.9330\n",
      "Epoch 16/30\n",
      "50000/50000 [==============================] - 49s 983us/step - loss: 0.1754 - acc: 0.9387\n",
      "Epoch 17/30\n",
      "50000/50000 [==============================] - 46s 919us/step - loss: 0.1628 - acc: 0.9449\n",
      "Epoch 18/30\n",
      "50000/50000 [==============================] - 47s 948us/step - loss: 0.1521 - acc: 0.9479\n",
      "Epoch 19/30\n",
      "50000/50000 [==============================] - 47s 936us/step - loss: 0.1432 - acc: 0.9516\n",
      "Epoch 20/30\n",
      "50000/50000 [==============================] - 46s 928us/step - loss: 0.1349 - acc: 0.9543\n",
      "Epoch 21/30\n",
      "50000/50000 [==============================] - 46s 924us/step - loss: 0.1321 - acc: 0.9550\n",
      "Epoch 22/30\n",
      "50000/50000 [==============================] - 46s 917us/step - loss: 0.1274 - acc: 0.9590\n",
      "Epoch 23/30\n",
      "50000/50000 [==============================] - 46s 916us/step - loss: 0.1194 - acc: 0.9607\n",
      "Epoch 24/30\n",
      "50000/50000 [==============================] - 46s 911us/step - loss: 0.1182 - acc: 0.9619\n",
      "Epoch 25/30\n",
      "50000/50000 [==============================] - 46s 912us/step - loss: 0.1160 - acc: 0.9612\n",
      "Epoch 26/30\n",
      "50000/50000 [==============================] - 46s 912us/step - loss: 0.1087 - acc: 0.9649\n",
      "Epoch 27/30\n",
      "50000/50000 [==============================] - 46s 911us/step - loss: 0.1128 - acc: 0.9634\n",
      "Epoch 28/30\n",
      "50000/50000 [==============================] - 46s 912us/step - loss: 0.1127 - acc: 0.9648\n",
      "Epoch 29/30\n",
      "50000/50000 [==============================] - 46s 912us/step - loss: 0.1078 - acc: 0.9650\n",
      "Epoch 30/30\n",
      "50000/50000 [==============================] - 46s 925us/step - loss: 0.1040 - acc: 0.9672\n"
     ]
    },
    {
     "data": {
      "text/plain": [
       "<keras.callbacks.History at 0x2051d5c6978>"
      ]
     },
     "execution_count": 4,
     "metadata": {},
     "output_type": "execute_result"
    }
   ],
   "source": [
    "model.fit(X_train, y_train_cat, batch_size=128, epochs=30)"
   ]
  },
  {
   "cell_type": "code",
   "execution_count": 6,
   "metadata": {},
   "outputs": [
    {
     "name": "stdout",
     "output_type": "stream",
     "text": [
      "50000/50000 [==============================] - 19s 389us/step\n"
     ]
    },
    {
     "data": {
      "text/plain": [
       "[0.04356432790508494, 0.98564]"
      ]
     },
     "execution_count": 6,
     "metadata": {},
     "output_type": "execute_result"
    }
   ],
   "source": [
    "model.evaluate(X_train,y_train_cat)"
   ]
  },
  {
   "cell_type": "code",
   "execution_count": 7,
   "metadata": {},
   "outputs": [
    {
     "name": "stdout",
     "output_type": "stream",
     "text": [
      "10000/10000 [==============================] - 4s 443us/step\n"
     ]
    },
    {
     "data": {
      "text/plain": [
       "[1.3973840140998364, 0.7549]"
      ]
     },
     "execution_count": 7,
     "metadata": {},
     "output_type": "execute_result"
    }
   ],
   "source": [
    "model.evaluate(X_test,y_test_cat)"
   ]
  },
  {
   "cell_type": "code",
   "execution_count": null,
   "metadata": {},
   "outputs": [],
   "source": []
  }
 ],
 "metadata": {
  "kernelspec": {
   "display_name": "Python 3",
   "language": "python",
   "name": "python3"
  },
  "language_info": {
   "codemirror_mode": {
    "name": "ipython",
    "version": 3
   },
   "file_extension": ".py",
   "mimetype": "text/x-python",
   "name": "python",
   "nbconvert_exporter": "python",
   "pygments_lexer": "ipython3",
   "version": "3.6.7"
  }
 },
 "nbformat": 4,
 "nbformat_minor": 2
}
