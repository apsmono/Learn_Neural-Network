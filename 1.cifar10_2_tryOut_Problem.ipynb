{
 "cells": [
  {
   "cell_type": "code",
   "execution_count": 1,
   "metadata": {},
   "outputs": [
    {
     "name": "stderr",
     "output_type": "stream",
     "text": [
      "Using TensorFlow backend.\n"
     ]
    }
   ],
   "source": [
    "from keras.datasets import cifar10"
   ]
  },
  {
   "cell_type": "code",
   "execution_count": 6,
   "metadata": {},
   "outputs": [],
   "source": [
    "(X_train, y_train), (X_test, y_test) = cifar10.load_data()"
   ]
  },
  {
   "cell_type": "code",
   "execution_count": 8,
   "metadata": {},
   "outputs": [],
   "source": [
    "from keras.utils import to_categorical"
   ]
  },
  {
   "cell_type": "code",
   "execution_count": 10,
   "metadata": {},
   "outputs": [],
   "source": [
    "y_train_cat = to_categorical(y_train)\n",
    "y_test_cat = to_categorical(y_test)"
   ]
  },
  {
   "cell_type": "code",
   "execution_count": 14,
   "metadata": {},
   "outputs": [
    {
     "data": {
      "text/plain": [
       "(50000, 32, 32, 3)"
      ]
     },
     "execution_count": 14,
     "metadata": {},
     "output_type": "execute_result"
    }
   ],
   "source": [
    "import numpy as np\n",
    "X_train.shape"
   ]
  },
  {
   "cell_type": "markdown",
   "metadata": {},
   "source": [
    "# Model_1"
   ]
  },
  {
   "cell_type": "code",
   "execution_count": 25,
   "metadata": {},
   "outputs": [],
   "source": [
    "from keras.models import Sequential\n",
    "from keras.layers import Dense, Conv2D, Flatten, Dropout, MaxPooling2D\n",
    "\n",
    "model = Sequential()\n",
    "\n",
    "model.add(Conv2D(32, kernel_size=(3,3), input_shape=(32,32,3), activation=\"relu\", padding=\"same\"))\n",
    "model.add(Conv2D(32, kernel_size=(3,3), activation=\"relu\", padding=\"same\"))\n",
    "model.add(MaxPooling2D(pool_size=(2,2)))\n",
    "model.add(Dropout(0.2))\n",
    "\n",
    "model.add(Conv2D(64, kernel_size=(3,3), activation=\"relu\", padding=\"same\"))\n",
    "model.add(Conv2D(64, kernel_size=(3,3), activation=\"relu\", padding=\"same\"))\n",
    "model.add(MaxPooling2D(pool_size=(2,2)))\n",
    "model.add(Dropout(0.2))\n",
    "\n",
    "model.add(Flatten())\n",
    "model.add(Dense(256, activation=\"relu\"))\n",
    "model.add(Dense(128, activation=\"relu\"))\n",
    "model.add(Dense(64, activation=\"softmax\"))\n",
    "model.add(Dense(10, activation=\"sigmoid\"))\n",
    "\n",
    "model.compile(optimizer=\"rmsprop\", loss=\"categorical_crossentropy\", metrics=[\"accuracy\"])"
   ]
  },
  {
   "cell_type": "code",
   "execution_count": 26,
   "metadata": {
    "scrolled": true
   },
   "outputs": [
    {
     "name": "stdout",
     "output_type": "stream",
     "text": [
      "Epoch 1/30\n",
      "50000/50000 [==============================] - 55s 1ms/step - loss: 2.3032 - acc: 0.1001\n",
      "Epoch 2/30\n",
      "50000/50000 [==============================] - 45s 895us/step - loss: 2.3027 - acc: 0.0981\n",
      "Epoch 3/30\n",
      "50000/50000 [==============================] - 45s 896us/step - loss: 2.3027 - acc: 0.0978\n",
      "Epoch 4/30\n",
      "50000/50000 [==============================] - 45s 895us/step - loss: 2.3027 - acc: 0.0981\n",
      "Epoch 5/30\n",
      "50000/50000 [==============================] - 45s 899us/step - loss: 2.3027 - acc: 0.1004\n",
      "Epoch 6/30\n",
      "50000/50000 [==============================] - 45s 900us/step - loss: 2.3027 - acc: 0.0979\n",
      "Epoch 7/30\n",
      "50000/50000 [==============================] - 45s 899us/step - loss: 2.3027 - acc: 0.0975\n",
      "Epoch 8/30\n",
      "50000/50000 [==============================] - 45s 897us/step - loss: 2.3027 - acc: 0.0991\n",
      "Epoch 9/30\n",
      "50000/50000 [==============================] - 45s 903us/step - loss: 2.3027 - acc: 0.0988\n",
      "Epoch 10/30\n",
      "50000/50000 [==============================] - 45s 904us/step - loss: 2.3027 - acc: 0.0984\n",
      "Epoch 11/30\n",
      "50000/50000 [==============================] - 45s 898us/step - loss: 2.3027 - acc: 0.0970\n",
      "Epoch 12/30\n",
      "50000/50000 [==============================] - 45s 902us/step - loss: 2.3027 - acc: 0.0985\n",
      "Epoch 13/30\n",
      "50000/50000 [==============================] - 45s 899us/step - loss: 2.3027 - acc: 0.0964\n",
      "Epoch 14/30\n",
      "50000/50000 [==============================] - 45s 895us/step - loss: 2.3027 - acc: 0.0959\n",
      "Epoch 15/30\n",
      "50000/50000 [==============================] - 45s 904us/step - loss: 2.3027 - acc: 0.0982\n",
      "Epoch 16/30\n",
      "50000/50000 [==============================] - 45s 899us/step - loss: 2.3027 - acc: 0.0984\n",
      "Epoch 17/30\n",
      "50000/50000 [==============================] - 45s 903us/step - loss: 2.3027 - acc: 0.0991\n",
      "Epoch 18/30\n",
      "50000/50000 [==============================] - 46s 920us/step - loss: 2.3027 - acc: 0.0984\n",
      "Epoch 19/30\n",
      "50000/50000 [==============================] - 46s 915us/step - loss: 2.3027 - acc: 0.0995\n",
      "Epoch 20/30\n",
      "50000/50000 [==============================] - 45s 899us/step - loss: 2.3027 - acc: 0.0989\n",
      "Epoch 21/30\n",
      "50000/50000 [==============================] - 45s 898us/step - loss: 2.3027 - acc: 0.1000\n",
      "Epoch 22/30\n",
      "50000/50000 [==============================] - 45s 898us/step - loss: 2.3027 - acc: 0.0996\n",
      "Epoch 23/30\n",
      "50000/50000 [==============================] - 45s 901us/step - loss: 2.3027 - acc: 0.0986\n",
      "Epoch 24/30\n",
      "50000/50000 [==============================] - 46s 911us/step - loss: 2.3027 - acc: 0.0980\n",
      "Epoch 25/30\n",
      "50000/50000 [==============================] - 45s 895us/step - loss: 2.3027 - acc: 0.0977\n",
      "Epoch 26/30\n",
      "50000/50000 [==============================] - 45s 895us/step - loss: 2.3027 - acc: 0.0980\n",
      "Epoch 27/30\n",
      "50000/50000 [==============================] - 45s 894us/step - loss: 2.3027 - acc: 0.1002\n",
      "Epoch 28/30\n",
      "50000/50000 [==============================] - 45s 895us/step - loss: 2.3027 - acc: 0.0987\n",
      "Epoch 29/30\n",
      "50000/50000 [==============================] - 45s 894us/step - loss: 2.3027 - acc: 0.0982\n",
      "Epoch 30/30\n",
      "50000/50000 [==============================] - 45s 896us/step - loss: 2.3027 - acc: 0.0992\n"
     ]
    },
    {
     "data": {
      "text/plain": [
       "<keras.callbacks.History at 0x1a5dd566860>"
      ]
     },
     "execution_count": 26,
     "metadata": {},
     "output_type": "execute_result"
    }
   ],
   "source": [
    "model.fit(X_train, y_train_cat, epochs=30, batch_size=128, shuffle=True)"
   ]
  },
  {
   "cell_type": "code",
   "execution_count": 28,
   "metadata": {},
   "outputs": [
    {
     "name": "stdout",
     "output_type": "stream",
     "text": [
      "50000/50000 [==============================] - 21s 410us/step\n"
     ]
    },
    {
     "data": {
      "text/plain": [
       "[2.302601555480957, 0.1]"
      ]
     },
     "execution_count": 28,
     "metadata": {},
     "output_type": "execute_result"
    }
   ],
   "source": [
    "model.evaluate(X_train, y_train_cat)"
   ]
  },
  {
   "cell_type": "code",
   "execution_count": 29,
   "metadata": {},
   "outputs": [
    {
     "name": "stdout",
     "output_type": "stream",
     "text": [
      "10000/10000 [==============================] - 4s 403us/step\n"
     ]
    },
    {
     "data": {
      "text/plain": [
       "[2.302601559448242, 0.1]"
      ]
     },
     "execution_count": 29,
     "metadata": {},
     "output_type": "execute_result"
    }
   ],
   "source": [
    "model.evaluate(X_test, y_test_cat)"
   ]
  },
  {
   "cell_type": "markdown",
   "metadata": {},
   "source": [
    "# Model_2"
   ]
  },
  {
   "cell_type": "code",
   "execution_count": 30,
   "metadata": {
    "scrolled": true
   },
   "outputs": [
    {
     "name": "stdout",
     "output_type": "stream",
     "text": [
      "Epoch 1/30\n",
      "50000/50000 [==============================] - 48s 957us/step - loss: 2.3027 - acc: 0.0973\n",
      "Epoch 2/30\n",
      "50000/50000 [==============================] - 47s 938us/step - loss: 2.3027 - acc: 0.0994\n",
      "Epoch 3/30\n",
      "50000/50000 [==============================] - 47s 941us/step - loss: 2.3027 - acc: 0.0988\n",
      "Epoch 4/30\n",
      "50000/50000 [==============================] - 47s 939us/step - loss: 2.3027 - acc: 0.0963\n",
      "Epoch 5/30\n",
      "50000/50000 [==============================] - 47s 941us/step - loss: 2.3027 - acc: 0.0962\n",
      "Epoch 6/30\n",
      "50000/50000 [==============================] - 47s 942us/step - loss: 2.3027 - acc: 0.0973\n",
      "Epoch 7/30\n",
      "50000/50000 [==============================] - 47s 941us/step - loss: 2.3027 - acc: 0.09830s - loss: 2.3027 - acc: \n",
      "Epoch 8/30\n",
      "50000/50000 [==============================] - 47s 940us/step - loss: 2.3027 - acc: 0.0983\n",
      "Epoch 9/30\n",
      "50000/50000 [==============================] - 47s 949us/step - loss: 2.3027 - acc: 0.0992\n",
      "Epoch 10/30\n",
      "50000/50000 [==============================] - 48s 963us/step - loss: 2.3027 - acc: 0.0982\n",
      "Epoch 11/30\n",
      "50000/50000 [==============================] - 47s 937us/step - loss: 2.3027 - acc: 0.0992\n",
      "Epoch 12/30\n",
      "50000/50000 [==============================] - 48s 956us/step - loss: 2.3027 - acc: 0.096510s - lo - ETA: 0s - loss: 2.3027 - acc: 0.\n",
      "Epoch 13/30\n",
      "50000/50000 [==============================] - 48s 960us/step - loss: 2.3027 - acc: 0.0977\n",
      "Epoch 14/30\n",
      "50000/50000 [==============================] - 47s 935us/step - loss: 2.3027 - acc: 0.0984\n",
      "Epoch 15/30\n",
      "50000/50000 [==============================] - 47s 933us/step - loss: 2.3027 - acc: 0.0983\n",
      "Epoch 16/30\n",
      "50000/50000 [==============================] - 47s 934us/step - loss: 2.3027 - acc: 0.09791s - loss: 2.3027 - ac - ETA: 0s - loss: 2.3027 - a\n",
      "Epoch 17/30\n",
      "50000/50000 [==============================] - 47s 938us/step - loss: 2.3027 - acc: 0.0958\n",
      "Epoch 18/30\n",
      "50000/50000 [==============================] - 47s 934us/step - loss: 2.3027 - acc: 0.0970\n",
      "Epoch 19/30\n",
      "50000/50000 [==============================] - 47s 935us/step - loss: 2.3027 - acc: 0.1006\n",
      "Epoch 20/30\n",
      "50000/50000 [==============================] - 47s 934us/step - loss: 2.3027 - acc: 0.0987\n",
      "Epoch 21/30\n",
      "50000/50000 [==============================] - 47s 934us/step - loss: 2.3027 - acc: 0.0969\n",
      "Epoch 22/30\n",
      "50000/50000 [==============================] - 47s 934us/step - loss: 2.3027 - acc: 0.0969\n",
      "Epoch 23/30\n",
      "50000/50000 [==============================] - 47s 934us/step - loss: 2.3027 - acc: 0.0979\n",
      "Epoch 24/30\n",
      "50000/50000 [==============================] - 47s 933us/step - loss: 2.3027 - acc: 0.09730s - loss: 2.3027 - acc: 0.0\n",
      "Epoch 25/30\n",
      "50000/50000 [==============================] - 47s 933us/step - loss: 2.3027 - acc: 0.0996\n",
      "Epoch 26/30\n",
      "50000/50000 [==============================] - 47s 934us/step - loss: 2.3027 - acc: 0.0973\n",
      "Epoch 27/30\n",
      "50000/50000 [==============================] - 47s 933us/step - loss: 2.3027 - acc: 0.1001\n",
      "Epoch 28/30\n",
      "50000/50000 [==============================] - 47s 933us/step - loss: 2.3027 - acc: 0.0985\n",
      "Epoch 29/30\n",
      "50000/50000 [==============================] - 47s 933us/step - loss: 2.3027 - acc: 0.0986\n",
      "Epoch 30/30\n",
      "50000/50000 [==============================] - 47s 940us/step - loss: 2.3027 - acc: 0.0978\n"
     ]
    },
    {
     "data": {
      "text/plain": [
       "<keras.callbacks.History at 0x1a5e872be10>"
      ]
     },
     "execution_count": 30,
     "metadata": {},
     "output_type": "execute_result"
    }
   ],
   "source": [
    "model.fit(X_train, y_train_cat, epochs=30, batch_size=100, shuffle=True)"
   ]
  },
  {
   "cell_type": "code",
   "execution_count": 31,
   "metadata": {},
   "outputs": [
    {
     "name": "stdout",
     "output_type": "stream",
     "text": [
      "50000/50000 [==============================] - 21s 422us/step\n"
     ]
    },
    {
     "data": {
      "text/plain": [
       "[2.302606215209961, 0.1]"
      ]
     },
     "execution_count": 31,
     "metadata": {},
     "output_type": "execute_result"
    }
   ],
   "source": [
    "model.evaluate(X_train, y_train_cat)"
   ]
  },
  {
   "cell_type": "code",
   "execution_count": 32,
   "metadata": {},
   "outputs": [
    {
     "name": "stdout",
     "output_type": "stream",
     "text": [
      "10000/10000 [==============================] - 5s 461us/step\n"
     ]
    },
    {
     "data": {
      "text/plain": [
       "[2.3026062072753906, 0.1]"
      ]
     },
     "execution_count": 32,
     "metadata": {},
     "output_type": "execute_result"
    }
   ],
   "source": [
    "model.evaluate(X_test, y_test_cat)"
   ]
  },
  {
   "cell_type": "markdown",
   "metadata": {},
   "source": [
    "# Model_3"
   ]
  },
  {
   "cell_type": "code",
   "execution_count": 33,
   "metadata": {},
   "outputs": [],
   "source": [
    "from keras.models import Sequential\n",
    "from keras.layers import Dense, Conv2D, Flatten, Dropout, MaxPooling2D\n",
    "\n",
    "model = Sequential()\n",
    "\n",
    "model.add(Conv2D(32, kernel_size=(3,3), input_shape=(32,32,3), activation=\"relu\", padding=\"same\"))\n",
    "model.add(Conv2D(32, kernel_size=(3,3), activation=\"relu\", padding=\"same\"))\n",
    "model.add(MaxPooling2D(pool_size=(2,2)))\n",
    "model.add(Dropout(0.2))\n",
    "\n",
    "model.add(Conv2D(64, kernel_size=(3,3), activation=\"relu\", padding=\"same\"))\n",
    "model.add(Conv2D(64, kernel_size=(3,3), activation=\"relu\", padding=\"same\"))\n",
    "model.add(MaxPooling2D(pool_size=(2,2)))\n",
    "model.add(Dropout(0.2))\n",
    "\n",
    "model.add(Flatten())\n",
    "model.add(Dense(256, activation=\"relu\"))\n",
    "model.add(Dense(128, activation=\"relu\"))\n",
    "#model.add(Dense(64, activation=\"softmax\"))\n",
    "model.add(Dense(10, activation=\"sigmoid\"))\n",
    "\n",
    "model.compile(optimizer=\"rmsprop\", loss=\"categorical_crossentropy\", metrics=[\"accuracy\"])"
   ]
  },
  {
   "cell_type": "code",
   "execution_count": 34,
   "metadata": {
    "scrolled": true
   },
   "outputs": [
    {
     "name": "stdout",
     "output_type": "stream",
     "text": [
      "Epoch 1/30\n",
      "50000/50000 [==============================] - 48s 965us/step - loss: 3.6312 - acc: 0.09984s - loss: 3.6319 - acc: 0. - ETA:  - ETA: 0s - loss: 3.6317 - ac\n",
      "Epoch 2/30\n",
      "50000/50000 [==============================] - 49s 982us/step - loss: 3.5893 - acc: 0.10001s - loss: 3.5\n",
      "Epoch 3/30\n",
      "50000/50000 [==============================] - 48s 967us/step - loss: 3.5893 - acc: 0.1000\n",
      "Epoch 4/30\n",
      "50000/50000 [==============================] - 49s 971us/step - loss: 3.5893 - acc: 0.1000\n",
      "Epoch 5/30\n",
      "50000/50000 [==============================] - 49s 977us/step - loss: 3.5893 - acc: 0.10004s - loss: 3 - ETA: \n",
      "Epoch 6/30\n",
      "50000/50000 [==============================] - 49s 971us/step - loss: 3.5893 - acc: 0.1000\n",
      "Epoch 7/30\n",
      "50000/50000 [==============================] - 49s 974us/step - loss: 3.5893 - acc: 0.10000s - loss: 3.5876 - acc: 0.10\n",
      "Epoch 8/30\n",
      "50000/50000 [==============================] - ETA: 0s - loss: 3.5890 - acc: 0.1001- ETA: 4s - loss: 3.5881 - -  - 49s 972us/step - loss: 3.5893 - acc: 0.1000\n",
      "Epoch 9/30\n",
      "50000/50000 [==============================] - 49s 970us/step - loss: 3.5893 - acc: 0.1000\n",
      "Epoch 10/30\n",
      "50000/50000 [==============================] - 49s 971us/step - loss: 3.5893 - acc: 0.1000\n",
      "Epoch 11/30\n",
      "50000/50000 [==============================] - 49s 970us/step - loss: 3.5893 - acc: 0.10002s - loss\n",
      "Epoch 12/30\n",
      "50000/50000 [==============================] - 57s 1ms/step - loss: 3.5893 - acc: 0.1000: 10s - loss: 3.581 - ETA: 8s - loss: 3.5893 - acc - ET\n",
      "Epoch 13/30\n",
      "50000/50000 [==============================] - 66s 1ms/step - loss: 3.5893 - acc: 0.1000\n",
      "Epoch 14/30\n",
      "50000/50000 [==============================] - 61s 1ms/step - loss: 3.5893 - acc: 0.1000: 7s - - ETA: 4s - loss: 3.5962 - acc: 0.0 - ETA: 3\n",
      "Epoch 15/30\n",
      "50000/50000 [==============================] - 65s 1ms/step - loss: 3.5893 - acc: 0.1000\n",
      "Epoch 16/30\n",
      "50000/50000 [==============================] - 69s 1ms/step - loss: 3.5893 - acc: 0.1000\n",
      "Epoch 17/30\n",
      "50000/50000 [==============================] - 68s 1ms/step - loss: 3.5893 - acc: 0.1000\n",
      "Epoch 18/30\n",
      "50000/50000 [==============================] - 61s 1ms/step - loss: 3.5893 - acc: 0.1000\n",
      "Epoch 19/30\n",
      "50000/50000 [==============================] - 57s 1ms/step - loss: 3.5893 - acc: 0.1000\n",
      "Epoch 20/30\n",
      "50000/50000 [==============================] - 59s 1ms/step - loss: 3.5893 - acc: 0.1000\n",
      "Epoch 21/30\n",
      "50000/50000 [==============================] - 48s 954us/step - loss: 3.5893 - acc: 0.10003s - loss: 3.5929 - acc: 0.09 - ETA: 2s - loss: 3.5938 - acc: 0. - ETA: 2s - \n",
      "Epoch 22/30\n",
      "50000/50000 [==============================] - 64s 1ms/step - loss: 3.5893 - acc: 0.1000\n",
      "Epoch 23/30\n",
      "50000/50000 [==============================] - 71s 1ms/step - loss: 3.5893 - acc: 0.1000: 3s \n",
      "Epoch 24/30\n",
      "50000/50000 [==============================] - 69s 1ms/step - loss: 3.5893 - acc: 0.1000\n",
      "Epoch 25/30\n",
      "50000/50000 [==============================] - 70s 1ms/step - loss: 3.5893 - acc: 0.1000\n",
      "Epoch 26/30\n",
      "50000/50000 [==============================] - 65s 1ms/step - loss: 3.5893 - acc: 0.1000: 3s - los\n",
      "Epoch 27/30\n",
      "50000/50000 [==============================] - 47s 939us/step - loss: 3.5893 - acc: 0.1000\n",
      "Epoch 28/30\n",
      "50000/50000 [==============================] - 47s 939us/step - loss: 3.5893 - acc: 0.1000\n",
      "Epoch 29/30\n",
      "50000/50000 [==============================] - 47s 941us/step - loss: 3.5893 - acc: 0.1000\n",
      "Epoch 30/30\n",
      "50000/50000 [==============================] - 47s 932us/step - loss: 3.5893 - acc: 0.1000\n"
     ]
    },
    {
     "data": {
      "text/plain": [
       "<keras.callbacks.History at 0x1a5840da048>"
      ]
     },
     "execution_count": 34,
     "metadata": {},
     "output_type": "execute_result"
    }
   ],
   "source": [
    "model.fit(X_train, y_train_cat, epochs=30, batch_size=100, shuffle=True)"
   ]
  },
  {
   "cell_type": "code",
   "execution_count": 35,
   "metadata": {},
   "outputs": [
    {
     "name": "stdout",
     "output_type": "stream",
     "text": [
      "50000/50000 [==============================] - 19s 385us/step\n"
     ]
    },
    {
     "data": {
      "text/plain": [
       "[3.589311550216675, 0.1]"
      ]
     },
     "execution_count": 35,
     "metadata": {},
     "output_type": "execute_result"
    }
   ],
   "source": [
    "model.evaluate(X_train, y_train_cat)"
   ]
  },
  {
   "cell_type": "code",
   "execution_count": 36,
   "metadata": {},
   "outputs": [
    {
     "name": "stdout",
     "output_type": "stream",
     "text": [
      "10000/10000 [==============================] - 4s 371us/step\n"
     ]
    },
    {
     "data": {
      "text/plain": [
       "[3.5893115467071532, 0.1]"
      ]
     },
     "execution_count": 36,
     "metadata": {},
     "output_type": "execute_result"
    }
   ],
   "source": [
    "model.evaluate(X_test, y_test_cat)"
   ]
  },
  {
   "cell_type": "markdown",
   "metadata": {},
   "source": [
    "# Model_4"
   ]
  },
  {
   "cell_type": "code",
   "execution_count": 37,
   "metadata": {
    "scrolled": true
   },
   "outputs": [
    {
     "name": "stdout",
     "output_type": "stream",
     "text": [
      "_________________________________________________________________\n",
      "Layer (type)                 Output Shape              Param #   \n",
      "=================================================================\n",
      "conv2d_18 (Conv2D)           (None, 32, 32, 32)        896       \n",
      "_________________________________________________________________\n",
      "conv2d_19 (Conv2D)           (None, 32, 32, 32)        9248      \n",
      "_________________________________________________________________\n",
      "max_pooling2d_9 (MaxPooling2 (None, 16, 16, 32)        0         \n",
      "_________________________________________________________________\n",
      "dropout_9 (Dropout)          (None, 16, 16, 32)        0         \n",
      "_________________________________________________________________\n",
      "conv2d_20 (Conv2D)           (None, 16, 16, 64)        18496     \n",
      "_________________________________________________________________\n",
      "conv2d_21 (Conv2D)           (None, 16, 16, 64)        36928     \n",
      "_________________________________________________________________\n",
      "max_pooling2d_10 (MaxPooling (None, 8, 8, 64)          0         \n",
      "_________________________________________________________________\n",
      "dropout_10 (Dropout)         (None, 8, 8, 64)          0         \n",
      "_________________________________________________________________\n",
      "flatten_5 (Flatten)          (None, 4096)              0         \n",
      "_________________________________________________________________\n",
      "dense_17 (Dense)             (None, 256)               1048832   \n",
      "_________________________________________________________________\n",
      "dense_18 (Dense)             (None, 128)               32896     \n",
      "_________________________________________________________________\n",
      "dense_19 (Dense)             (None, 10)                1290      \n",
      "=================================================================\n",
      "Total params: 1,148,586\n",
      "Trainable params: 1,148,586\n",
      "Non-trainable params: 0\n",
      "_________________________________________________________________\n"
     ]
    }
   ],
   "source": [
    "model.summary()"
   ]
  },
  {
   "cell_type": "code",
   "execution_count": 38,
   "metadata": {},
   "outputs": [],
   "source": [
    "from keras.models import Sequential\n",
    "from keras.layers import Dense, Conv2D, Flatten, Dropout, MaxPooling2D\n",
    "\n",
    "model = Sequential()\n",
    "\n",
    "model.add(Conv2D(32, kernel_size=(3,3), input_shape=(32,32,3), activation=\"relu\", padding=\"same\"))\n",
    "model.add(Conv2D(32, kernel_size=(3,3), activation=\"relu\", padding=\"same\"))\n",
    "model.add(MaxPooling2D(pool_size=(2,2), padding=\"same\"))\n",
    "model.add(Dropout(0.2))\n",
    "\n",
    "model.add(Conv2D(64, kernel_size=(3,3), activation=\"relu\", padding=\"same\"))\n",
    "model.add(Conv2D(64, kernel_size=(3,3), activation=\"relu\", padding=\"same\"))\n",
    "model.add(MaxPooling2D(pool_size=(2,2), padding=\"same\"))\n",
    "model.add(Dropout(0.2))\n",
    "\n",
    "model.add(Flatten())\n",
    "model.add(Dense(256, activation=\"relu\"))\n",
    "model.add(Dense(128, activation=\"relu\"))\n",
    "#model.add(Dense(64, activation=\"softmax\"))\n",
    "model.add(Dense(10, activation=\"sigmoid\"))\n",
    "\n",
    "model.compile(optimizer=\"rmsprop\", loss=\"categorical_crossentropy\", metrics=[\"accuracy\"])"
   ]
  },
  {
   "cell_type": "code",
   "execution_count": 39,
   "metadata": {
    "scrolled": true
   },
   "outputs": [
    {
     "name": "stdout",
     "output_type": "stream",
     "text": [
      "Epoch 1/30\n",
      "50000/50000 [==============================] - 48s 959us/step - loss: 3.5530 - acc: 0.0999\n",
      "Epoch 2/30\n",
      "50000/50000 [==============================] - 47s 939us/step - loss: 3.5893 - acc: 0.1000\n",
      "Epoch 3/30\n",
      "50000/50000 [==============================] - 47s 942us/step - loss: 3.5893 - acc: 0.1000\n",
      "Epoch 4/30\n",
      "50000/50000 [==============================] - 47s 944us/step - loss: 3.5893 - acc: 0.1000\n",
      "Epoch 5/30\n",
      "50000/50000 [==============================] - 47s 940us/step - loss: 3.5893 - acc: 0.1000\n",
      "Epoch 6/30\n",
      "50000/50000 [==============================] - 47s 933us/step - loss: 3.5893 - acc: 0.1000\n",
      "Epoch 7/30\n",
      "50000/50000 [==============================] - 47s 944us/step - loss: 3.5893 - acc: 0.10001s - loss: 3.587\n",
      "Epoch 8/30\n",
      "50000/50000 [==============================] - 48s 951us/step - loss: 3.5893 - acc: 0.1000\n",
      "Epoch 9/30\n",
      "50000/50000 [==============================] - 47s 939us/step - loss: 3.5893 - acc: 0.1000\n",
      "Epoch 10/30\n",
      "50000/50000 [==============================] - 47s 940us/step - loss: 3.5893 - acc: 0.1000\n",
      "Epoch 11/30\n",
      "50000/50000 [==============================] - 48s 952us/step - loss: 3.5893 - acc: 0.1000\n",
      "Epoch 12/30\n",
      "50000/50000 [==============================] - 47s 936us/step - loss: 3.5893 - acc: 0.1000\n",
      "Epoch 13/30\n",
      "50000/50000 [==============================] - 48s 960us/step - loss: 3.5893 - acc: 0.1000\n",
      "Epoch 14/30\n",
      "50000/50000 [==============================] - 49s 970us/step - loss: 3.5893 - acc: 0.10000s - loss: 3.5885 - acc: 0\n",
      "Epoch 15/30\n",
      "50000/50000 [==============================] - 48s 965us/step - loss: 3.5893 - acc: 0.1000\n",
      "Epoch 16/30\n",
      "50000/50000 [==============================] - 48s 958us/step - loss: 3.5893 - acc: 0.1000\n",
      "Epoch 17/30\n",
      "50000/50000 [==============================] - 47s 938us/step - loss: 3.5893 - acc: 0.10001s - loss: 3.5933\n",
      "Epoch 18/30\n",
      "50000/50000 [==============================] - 47s 932us/step - loss: 3.5893 - acc: 0.1000\n",
      "Epoch 19/30\n",
      "50000/50000 [==============================] - 47s 945us/step - loss: 3.5893 - acc: 0.1000\n",
      "Epoch 20/30\n",
      "50000/50000 [==============================] - 48s 955us/step - loss: 3.5893 - acc: 0.1000\n",
      "Epoch 21/30\n",
      "50000/50000 [==============================] - 47s 946us/step - loss: 3.5893 - acc: 0.1000\n",
      "Epoch 22/30\n",
      "50000/50000 [==============================] - 47s 939us/step - loss: 3.5893 - acc: 0.10000s - loss: 3.5882 - acc: 0.10\n",
      "Epoch 23/30\n",
      "50000/50000 [==============================] - 48s 956us/step - loss: 3.5893 - acc: 0.1000\n",
      "Epoch 24/30\n",
      "50000/50000 [==============================] - 48s 959us/step - loss: 3.5893 - acc: 0.1000\n",
      "Epoch 25/30\n",
      "50000/50000 [==============================] - 47s 933us/step - loss: 3.5893 - acc: 0.10002\n",
      "Epoch 26/30\n",
      "50000/50000 [==============================] - ETA: 0s - loss: 3.5899 - acc: 0.0999- ETA: 2s - loss: 3.5899 - acc: 0.1 - ETA: 1s - loss: 3 - ETA: 0s - loss: 3.5893 - acc: 0.09 - 47s 934us/step - loss: 3.5893 - acc: 0.1000\n",
      "Epoch 27/30\n",
      "50000/50000 [==============================] - 47s 933us/step - loss: 3.5893 - acc: 0.1000\n",
      "Epoch 28/30\n",
      "50000/50000 [==============================] - 47s 932us/step - loss: 3.5893 - acc: 0.1000\n",
      "Epoch 29/30\n",
      "50000/50000 [==============================] - 47s 934us/step - loss: 3.5893 - acc: 0.1000\n",
      "Epoch 30/30\n",
      "50000/50000 [==============================] - 47s 932us/step - loss: 3.5893 - acc: 0.10002s - loss\n"
     ]
    },
    {
     "data": {
      "text/plain": [
       "<keras.callbacks.History at 0x1a583ff3ac8>"
      ]
     },
     "execution_count": 39,
     "metadata": {},
     "output_type": "execute_result"
    }
   ],
   "source": [
    "model.fit(X_train, y_train_cat, epochs=30, batch_size=100, shuffle=True)"
   ]
  },
  {
   "cell_type": "code",
   "execution_count": 40,
   "metadata": {},
   "outputs": [
    {
     "name": "stdout",
     "output_type": "stream",
     "text": [
      "50000/50000 [==============================] - 19s 382us/step\n"
     ]
    },
    {
     "data": {
      "text/plain": [
       "[3.5893115480041504, 0.1]"
      ]
     },
     "execution_count": 40,
     "metadata": {},
     "output_type": "execute_result"
    }
   ],
   "source": [
    "model.evaluate(X_train, y_train_cat)"
   ]
  },
  {
   "cell_type": "code",
   "execution_count": 41,
   "metadata": {},
   "outputs": [
    {
     "name": "stdout",
     "output_type": "stream",
     "text": [
      "10000/10000 [==============================] - 4s 395us/step\n"
     ]
    },
    {
     "data": {
      "text/plain": [
       "[3.5893115562438966, 0.1]"
      ]
     },
     "execution_count": 41,
     "metadata": {},
     "output_type": "execute_result"
    }
   ],
   "source": [
    "model.evaluate(X_test, y_test_cat)"
   ]
  },
  {
   "cell_type": "markdown",
   "metadata": {},
   "source": [
    "# Model_5"
   ]
  },
  {
   "cell_type": "code",
   "execution_count": 42,
   "metadata": {},
   "outputs": [],
   "source": [
    "from keras.models import Sequential\n",
    "from keras.layers import Dense, Conv2D, Flatten, Dropout, MaxPooling2D\n",
    "\n",
    "model = Sequential()\n",
    "\n",
    "model.add(Conv2D(32, kernel_size=(3,3), input_shape=(32,32,3), activation=\"relu\", padding=\"same\"))\n",
    "model.add(Conv2D(32, kernel_size=(3,3), activation=\"relu\", padding=\"same\"))\n",
    "model.add(MaxPooling2D(pool_size=(2,2), padding=\"same\"))\n",
    "model.add(Dropout(0.2))\n",
    "\n",
    "model.add(Conv2D(64, kernel_size=(3,3), activation=\"relu\", padding=\"same\"))\n",
    "model.add(Conv2D(64, kernel_size=(3,3), activation=\"relu\", padding=\"same\"))\n",
    "model.add(MaxPooling2D(pool_size=(2,2), padding=\"same\"))\n",
    "model.add(Dropout(0.2))\n",
    "\n",
    "model.add(Flatten())\n",
    "model.add(Dense(256, activation=\"relu\"))\n",
    "model.add(Dense(128, activation=\"relu\"))\n",
    "#model.add(Dense(64, activation=\"softmax\"))\n",
    "model.add(Dense(10, activation=\"sigmoid\"))\n",
    "\n",
    "model.compile(optimizer=\"adam\", loss=\"categorical_crossentropy\", metrics=[\"accuracy\"])"
   ]
  },
  {
   "cell_type": "code",
   "execution_count": 43,
   "metadata": {
    "scrolled": true
   },
   "outputs": [
    {
     "name": "stdout",
     "output_type": "stream",
     "text": [
      "Epoch 1/30\n",
      "50000/50000 [==============================] - 50s 995us/step - loss: 3.6035 - acc: 0.10031s - loss: \n",
      "Epoch 2/30\n",
      "50000/50000 [==============================] - 49s 975us/step - loss: 3.5893 - acc: 0.1000\n",
      "Epoch 3/30\n",
      "50000/50000 [==============================] - 49s 974us/step - loss: 3.5893 - acc: 0.1000\n",
      "Epoch 4/30\n",
      "50000/50000 [==============================] - 49s 974us/step - loss: 3.5893 - acc: 0.1000\n",
      "Epoch 5/30\n",
      "50000/50000 [==============================] - 49s 974us/step - loss: 3.5893 - acc: 0.10002s \n",
      "Epoch 6/30\n",
      "50000/50000 [==============================] - 49s 974us/step - loss: 3.5893 - acc: 0.1000\n",
      "Epoch 7/30\n",
      "50000/50000 [==============================] - 49s 975us/step - loss: 3.5893 - acc: 0.1000\n",
      "Epoch 8/30\n",
      "50000/50000 [==============================] - 49s 973us/step - loss: 3.5893 - acc: 0.1000\n",
      "Epoch 9/30\n",
      "50000/50000 [==============================] - 49s 974us/step - loss: 3.5893 - acc: 0.1000\n",
      "Epoch 10/30\n",
      "50000/50000 [==============================] - 49s 976us/step - loss: 3.5893 - acc: 0.10000s - loss: 3.5910 - acc: 0.100\n",
      "Epoch 11/30\n",
      "50000/50000 [==============================] - 49s 975us/step - loss: 3.5893 - acc: 0.1000\n",
      "Epoch 12/30\n",
      "50000/50000 [==============================] - 49s 976us/step - loss: 3.5893 - acc: 0.1000\n",
      "Epoch 13/30\n",
      "50000/50000 [==============================] - 49s 974us/step - loss: 3.5893 - acc: 0.1000\n",
      "Epoch 14/30\n",
      "50000/50000 [==============================] - 49s 974us/step - loss: 3.5893 - acc: 0.1000\n",
      "Epoch 15/30\n",
      "50000/50000 [==============================] - 49s 975us/step - loss: 3.5893 - acc: 0.1000\n",
      "Epoch 16/30\n",
      "50000/50000 [==============================] - 49s 975us/step - loss: 3.5893 - acc: 0.1000\n",
      "Epoch 17/30\n",
      "50000/50000 [==============================] - 49s 976us/step - loss: 3.5893 - acc: 0.1000\n",
      "Epoch 18/30\n",
      "50000/50000 [==============================] - 49s 974us/step - loss: 3.5893 - acc: 0.1000\n",
      "Epoch 19/30\n",
      "50000/50000 [==============================] - 49s 974us/step - loss: 3.5893 - acc: 0.1000\n",
      "Epoch 20/30\n",
      "50000/50000 [==============================] - 49s 974us/step - loss: 3.5893 - acc: 0.1000\n",
      "Epoch 21/30\n",
      "50000/50000 [==============================] - 49s 974us/step - loss: 3.5893 - acc: 0.1000\n",
      "Epoch 22/30\n",
      "50000/50000 [==============================] - 49s 976us/step - loss: 3.5893 - acc: 0.1000\n",
      "Epoch 23/30\n",
      "50000/50000 [==============================] - 50s 990us/step - loss: 3.5893 - acc: 0.1000\n",
      "Epoch 24/30\n",
      "50000/50000 [==============================] - 49s 975us/step - loss: 3.5893 - acc: 0.1000\n",
      "Epoch 25/30\n",
      "50000/50000 [==============================] - 49s 975us/step - loss: 3.5893 - acc: 0.10007s - loss: 3.5743 - acc:  - ET - ETA: 3s - loss: 3.5851 - acc: 0 - ETA: 2s - - ETA: 0s - loss: 3.5871 - acc: 0.100\n",
      "Epoch 26/30\n",
      "50000/50000 [==============================] - 49s 975us/step - loss: 3.5893 - acc: 0.1000\n",
      "Epoch 27/30\n",
      "50000/50000 [==============================] - 49s 975us/step - loss: 3.5893 - acc: 0.1000\n",
      "Epoch 28/30\n",
      "50000/50000 [==============================] - 49s 974us/step - loss: 3.5893 - acc: 0.1000\n",
      "Epoch 29/30\n",
      "50000/50000 [==============================] - 49s 974us/step - loss: 3.5893 - acc: 0.1000\n",
      "Epoch 30/30\n",
      "50000/50000 [==============================] - 49s 975us/step - loss: 3.5893 - acc: 0.1000\n"
     ]
    },
    {
     "data": {
      "text/plain": [
       "<keras.callbacks.History at 0x1a5840de518>"
      ]
     },
     "execution_count": 43,
     "metadata": {},
     "output_type": "execute_result"
    }
   ],
   "source": [
    "model.fit(X_train, y_train_cat, epochs=30, batch_size=100, shuffle=True)"
   ]
  },
  {
   "cell_type": "code",
   "execution_count": 44,
   "metadata": {},
   "outputs": [
    {
     "name": "stdout",
     "output_type": "stream",
     "text": [
      "50000/50000 [==============================] - 19s 381us/step\n"
     ]
    },
    {
     "data": {
      "text/plain": [
       "[3.589311552581787, 0.1]"
      ]
     },
     "execution_count": 44,
     "metadata": {},
     "output_type": "execute_result"
    }
   ],
   "source": [
    "model.evaluate(X_train, y_train_cat)"
   ]
  },
  {
   "cell_type": "code",
   "execution_count": 45,
   "metadata": {},
   "outputs": [
    {
     "name": "stdout",
     "output_type": "stream",
     "text": [
      "10000/10000 [==============================] - 4s 383us/step\n"
     ]
    },
    {
     "data": {
      "text/plain": [
       "[3.5893115440368653, 0.1]"
      ]
     },
     "execution_count": 45,
     "metadata": {},
     "output_type": "execute_result"
    }
   ],
   "source": [
    "model.evaluate(X_test, y_test_cat)"
   ]
  },
  {
   "cell_type": "markdown",
   "metadata": {},
   "source": [
    "# Model_6"
   ]
  },
  {
   "cell_type": "code",
   "execution_count": 46,
   "metadata": {},
   "outputs": [],
   "source": [
    "from keras.models import Sequential\n",
    "from keras.layers import Dense, Conv2D, Flatten, Dropout, MaxPooling2D\n",
    "\n",
    "model = Sequential()\n",
    "\n",
    "model.add(Conv2D(32, kernel_size=(3,3), input_shape=(32,32,3), activation=\"relu\", padding=\"same\"))\n",
    "model.add(Conv2D(32, kernel_size=(3,3), activation=\"relu\", padding=\"same\"))\n",
    "model.add(MaxPooling2D(pool_size=(2,2), padding=\"same\"))\n",
    "model.add(Dropout(0.25))\n",
    "\n",
    "model.add(Conv2D(64, kernel_size=(3,3), activation=\"relu\", padding=\"same\"))\n",
    "model.add(Conv2D(64, kernel_size=(3,3), activation=\"relu\", padding=\"same\"))\n",
    "model.add(MaxPooling2D(pool_size=(2,2), padding=\"same\"))\n",
    "model.add(Dropout(0.25))\n",
    "\n",
    "model.add(Flatten())\n",
    "model.add(Dense(256, activation=\"relu\"))\n",
    "model.add(Dense(128, activation=\"relu\"))\n",
    "#model.add(Dense(64, activation=\"softmax\"))\n",
    "model.add(Dense(10, activation=\"sigmoid\"))\n",
    "\n",
    "model.compile(optimizer=\"adam\", loss=\"categorical_crossentropy\", metrics=[\"accuracy\"])"
   ]
  },
  {
   "cell_type": "code",
   "execution_count": 47,
   "metadata": {
    "scrolled": true
   },
   "outputs": [
    {
     "name": "stdout",
     "output_type": "stream",
     "text": [
      "Epoch 1/30\n",
      "50000/50000 [==============================] - 50s 995us/step - loss: 2.3660 - acc: 0.1002\n",
      "Epoch 2/30\n",
      "50000/50000 [==============================] - 49s 975us/step - loss: 2.3026 - acc: 0.1000\n",
      "Epoch 3/30\n",
      "50000/50000 [==============================] - 49s 975us/step - loss: 2.3026 - acc: 0.1000\n",
      "Epoch 4/30\n",
      "50000/50000 [==============================] - 49s 975us/step - loss: 2.3026 - acc: 0.1000\n",
      "Epoch 5/30\n",
      "50000/50000 [==============================] - 49s 976us/step - loss: 2.3026 - acc: 0.1000\n",
      "Epoch 6/30\n",
      "50000/50000 [==============================] - 49s 975us/step - loss: 2.3026 - acc: 0.10000s - loss: 2.3026 - acc:\n",
      "Epoch 7/30\n",
      "50000/50000 [==============================] - 49s 975us/step - loss: 2.3026 - acc: 0.1000\n",
      "Epoch 8/30\n",
      "50000/50000 [==============================] - 49s 975us/step - loss: 2.3026 - acc: 0.1000\n",
      "Epoch 9/30\n",
      "50000/50000 [==============================] - 49s 976us/step - loss: 2.3026 - acc: 0.1000\n",
      "Epoch 10/30\n",
      "50000/50000 [==============================] - 49s 974us/step - loss: 2.3026 - acc: 0.1000\n",
      "Epoch 11/30\n",
      "50000/50000 [==============================] - 49s 976us/step - loss: 2.3026 - acc: 0.1000\n",
      "Epoch 12/30\n",
      "50000/50000 [==============================] - 49s 975us/step - loss: 2.3026 - acc: 0.1000\n",
      "Epoch 13/30\n",
      "50000/50000 [==============================] - 49s 975us/step - loss: 2.3026 - acc: 0.100011s - \n",
      "Epoch 14/30\n",
      "50000/50000 [==============================] - 49s 975us/step - loss: 2.3026 - acc: 0.10001s - loss: 2\n",
      "Epoch 15/30\n",
      "50000/50000 [==============================] - 49s 975us/step - loss: 2.3026 - acc: 0.1000\n",
      "Epoch 16/30\n",
      "50000/50000 [==============================] - 49s 975us/step - loss: 2.3026 - acc: 0.1000\n",
      "Epoch 17/30\n",
      "50000/50000 [==============================] - 49s 975us/step - loss: 2.3026 - acc: 0.1000\n",
      "Epoch 18/30\n",
      "50000/50000 [==============================] - 49s 975us/step - loss: 2.3026 - acc: 0.1000\n",
      "Epoch 19/30\n",
      "50000/50000 [==============================] - 49s 975us/step - loss: 2.3026 - acc: 0.1000\n",
      "Epoch 20/30\n",
      "50000/50000 [==============================] - 49s 974us/step - loss: 2.3026 - acc: 0.1000\n",
      "Epoch 21/30\n",
      "50000/50000 [==============================] - 49s 976us/step - loss: 2.3026 - acc: 0.1000\n",
      "Epoch 22/30\n",
      "50000/50000 [==============================] - 49s 975us/step - loss: 2.3026 - acc: 0.1000\n",
      "Epoch 23/30\n",
      "50000/50000 [==============================] - 49s 975us/step - loss: 2.3026 - acc: 0.1000\n",
      "Epoch 24/30\n",
      "50000/50000 [==============================] - 49s 977us/step - loss: 2.3026 - acc: 0.1000\n",
      "Epoch 25/30\n",
      "50000/50000 [==============================] - 49s 975us/step - loss: 2.3026 - acc: 0.1000\n",
      "Epoch 26/30\n",
      "50000/50000 [==============================] - 49s 975us/step - loss: 2.3026 - acc: 0.1000\n",
      "Epoch 27/30\n",
      "50000/50000 [==============================] - 49s 975us/step - loss: 2.3026 - acc: 0.1000\n",
      "Epoch 28/30\n",
      "50000/50000 [==============================] - 49s 973us/step - loss: 2.3026 - acc: 0.1000\n",
      "Epoch 29/30\n",
      "50000/50000 [==============================] - 49s 976us/step - loss: 2.3026 - acc: 0.1000\n",
      "Epoch 30/30\n",
      "50000/50000 [==============================] - 49s 975us/step - loss: 2.3026 - acc: 0.1000\n"
     ]
    },
    {
     "data": {
      "text/plain": [
       "<keras.callbacks.History at 0x1a646179908>"
      ]
     },
     "execution_count": 47,
     "metadata": {},
     "output_type": "execute_result"
    }
   ],
   "source": [
    "model.fit(X_train, y_train_cat, epochs=30, batch_size=100, shuffle=True)"
   ]
  },
  {
   "cell_type": "code",
   "execution_count": 48,
   "metadata": {},
   "outputs": [
    {
     "name": "stdout",
     "output_type": "stream",
     "text": [
      "50000/50000 [==============================] - 19s 384us/step\n"
     ]
    },
    {
     "data": {
      "text/plain": [
       "[2.3025851249694824, 0.1]"
      ]
     },
     "execution_count": 48,
     "metadata": {},
     "output_type": "execute_result"
    }
   ],
   "source": [
    "model.evaluate(X_train, y_train_cat)"
   ]
  },
  {
   "cell_type": "code",
   "execution_count": 49,
   "metadata": {},
   "outputs": [
    {
     "name": "stdout",
     "output_type": "stream",
     "text": [
      "10000/10000 [==============================] - 4s 383us/step\n"
     ]
    },
    {
     "data": {
      "text/plain": [
       "[2.3025851249694824, 0.1]"
      ]
     },
     "execution_count": 49,
     "metadata": {},
     "output_type": "execute_result"
    }
   ],
   "source": [
    "model.evaluate(X_test, y_test_cat)"
   ]
  },
  {
   "cell_type": "code",
   "execution_count": 51,
   "metadata": {},
   "outputs": [
    {
     "name": "stdout",
     "output_type": "stream",
     "text": [
      "Requirement already satisfied: pandas_ml in c:\\programdata\\anaconda3\\envs\\python36\\lib\\site-packages (0.6.1)\n",
      "Requirement already satisfied: enum34 in c:\\programdata\\anaconda3\\envs\\python36\\lib\\site-packages (from pandas_ml) (1.1.6)\n",
      "Requirement already satisfied: pandas>=0.19.0 in c:\\programdata\\anaconda3\\envs\\python36\\lib\\site-packages (from pandas_ml) (0.23.4)\n",
      "Requirement already satisfied: python-dateutil>=2.5.0 in c:\\programdata\\anaconda3\\envs\\python36\\lib\\site-packages (from pandas>=0.19.0->pandas_ml) (2.7.5)\n",
      "Requirement already satisfied: pytz>=2011k in c:\\programdata\\anaconda3\\envs\\python36\\lib\\site-packages (from pandas>=0.19.0->pandas_ml) (2018.7)\n",
      "Requirement already satisfied: numpy>=1.9.0 in c:\\programdata\\anaconda3\\envs\\python36\\lib\\site-packages (from pandas>=0.19.0->pandas_ml) (1.15.4)\n",
      "Requirement already satisfied: six>=1.5 in c:\\programdata\\anaconda3\\envs\\python36\\lib\\site-packages (from python-dateutil>=2.5.0->pandas>=0.19.0->pandas_ml) (1.12.0)\n"
     ]
    },
    {
     "ename": "AssertionError",
     "evalue": "Binary confusion matrix must have len=2 but len=1 because y_true.unique()=[0] y_pred.unique()=[0]",
     "output_type": "error",
     "traceback": [
      "\u001b[1;31m---------------------------------------------------------------------------\u001b[0m",
      "\u001b[1;31mAssertionError\u001b[0m                            Traceback (most recent call last)",
      "\u001b[1;32m<ipython-input-51-d2ab416be37e>\u001b[0m in \u001b[0;36m<module>\u001b[1;34m\u001b[0m\n\u001b[0;32m      3\u001b[0m \u001b[1;32mfrom\u001b[0m \u001b[0mpandas_ml\u001b[0m \u001b[1;32mimport\u001b[0m \u001b[0mConfusionMatrix\u001b[0m\u001b[1;33m\u001b[0m\u001b[1;33m\u001b[0m\u001b[0m\n\u001b[0;32m      4\u001b[0m \u001b[1;33m\u001b[0m\u001b[0m\n\u001b[1;32m----> 5\u001b[1;33m \u001b[0mConfusionMatrix\u001b[0m\u001b[1;33m(\u001b[0m\u001b[0mnp\u001b[0m\u001b[1;33m.\u001b[0m\u001b[0margmax\u001b[0m\u001b[1;33m(\u001b[0m\u001b[0my_test\u001b[0m\u001b[1;33m,\u001b[0m \u001b[0maxis\u001b[0m\u001b[1;33m=\u001b[0m\u001b[1;36m1\u001b[0m\u001b[1;33m)\u001b[0m\u001b[1;33m,\u001b[0m \u001b[0mnp\u001b[0m\u001b[1;33m.\u001b[0m\u001b[0margmax\u001b[0m\u001b[1;33m(\u001b[0m\u001b[0mmodel\u001b[0m\u001b[1;33m.\u001b[0m\u001b[0mpredict\u001b[0m\u001b[1;33m(\u001b[0m\u001b[0mX_test\u001b[0m\u001b[1;33m)\u001b[0m\u001b[1;33m,\u001b[0m \u001b[0maxis\u001b[0m\u001b[1;33m=\u001b[0m\u001b[1;36m1\u001b[0m\u001b[1;33m)\u001b[0m\u001b[1;33m)\u001b[0m\u001b[1;33m\u001b[0m\u001b[1;33m\u001b[0m\u001b[0m\n\u001b[0m",
      "\u001b[1;32mC:\\ProgramData\\Anaconda3\\envs\\python36\\lib\\site-packages\\pandas_ml\\confusion_matrix\\cm.py\u001b[0m in \u001b[0;36m__new__\u001b[1;34m(cls, y_true, y_pred, *args, **kwargs)\u001b[0m\n\u001b[0;32m     21\u001b[0m             \u001b[1;32mif\u001b[0m \u001b[0mlen\u001b[0m\u001b[1;33m(\u001b[0m\u001b[0mset\u001b[0m\u001b[1;33m(\u001b[0m\u001b[0muniq_true\u001b[0m\u001b[1;33m)\u001b[0m \u001b[1;33m-\u001b[0m \u001b[0mset\u001b[0m\u001b[1;33m(\u001b[0m\u001b[0muniq_pred\u001b[0m\u001b[1;33m)\u001b[0m\u001b[1;33m)\u001b[0m \u001b[1;33m==\u001b[0m \u001b[1;36m0\u001b[0m\u001b[1;33m:\u001b[0m\u001b[1;33m\u001b[0m\u001b[1;33m\u001b[0m\u001b[0m\n\u001b[0;32m     22\u001b[0m                 \u001b[1;32mfrom\u001b[0m \u001b[0mpandas_ml\u001b[0m\u001b[1;33m.\u001b[0m\u001b[0mconfusion_matrix\u001b[0m\u001b[1;33m.\u001b[0m\u001b[0mbcm\u001b[0m \u001b[1;32mimport\u001b[0m \u001b[0mBinaryConfusionMatrix\u001b[0m\u001b[1;33m\u001b[0m\u001b[1;33m\u001b[0m\u001b[0m\n\u001b[1;32m---> 23\u001b[1;33m                 \u001b[1;32mreturn\u001b[0m \u001b[0mBinaryConfusionMatrix\u001b[0m\u001b[1;33m(\u001b[0m\u001b[0my_true\u001b[0m\u001b[1;33m,\u001b[0m \u001b[0my_pred\u001b[0m\u001b[1;33m,\u001b[0m \u001b[1;33m*\u001b[0m\u001b[0margs\u001b[0m\u001b[1;33m,\u001b[0m \u001b[1;33m**\u001b[0m\u001b[0mkwargs\u001b[0m\u001b[1;33m)\u001b[0m\u001b[1;33m\u001b[0m\u001b[1;33m\u001b[0m\u001b[0m\n\u001b[0m\u001b[0;32m     24\u001b[0m         \u001b[1;32mreturn\u001b[0m \u001b[0mLabeledConfusionMatrix\u001b[0m\u001b[1;33m(\u001b[0m\u001b[0my_true\u001b[0m\u001b[1;33m,\u001b[0m \u001b[0my_pred\u001b[0m\u001b[1;33m,\u001b[0m \u001b[1;33m*\u001b[0m\u001b[0margs\u001b[0m\u001b[1;33m,\u001b[0m \u001b[1;33m**\u001b[0m\u001b[0mkwargs\u001b[0m\u001b[1;33m)\u001b[0m\u001b[1;33m\u001b[0m\u001b[1;33m\u001b[0m\u001b[0m\n\u001b[0;32m     25\u001b[0m \u001b[1;33m\u001b[0m\u001b[0m\n",
      "\u001b[1;32mC:\\ProgramData\\Anaconda3\\envs\\python36\\lib\\site-packages\\pandas_ml\\confusion_matrix\\bcm.py\u001b[0m in \u001b[0;36m__init__\u001b[1;34m(self, *args, **kwargs)\u001b[0m\n\u001b[0;32m     23\u001b[0m             \u001b[0;31m\"\u001b[0m\u001b[0mBinary\u001b[0m \u001b[0mconfusion\u001b[0m \u001b[0mmatrix\u001b[0m \u001b[0mmust\u001b[0m \u001b[0mhave\u001b[0m \u001b[0mlen\u001b[0m\u001b[1;33m=\u001b[0m\u001b[1;36m2\u001b[0m \u001b[0mbut\u001b[0m\u001b[0;31m \u001b[0m\u001b[0;31m\\\u001b[0m\u001b[1;33m\u001b[0m\u001b[1;33m\u001b[0m\u001b[0m\n\u001b[0;32m     24\u001b[0m \u001b[0mlen\u001b[0m\u001b[1;33m=\u001b[0m\u001b[1;33m%\u001b[0m\u001b[0md\u001b[0m \u001b[0mbecause\u001b[0m \u001b[0my_true\u001b[0m\u001b[1;33m.\u001b[0m\u001b[0munique\u001b[0m\u001b[1;33m(\u001b[0m\u001b[1;33m)\u001b[0m\u001b[1;33m=\u001b[0m\u001b[1;33m%\u001b[0m\u001b[0ms\u001b[0m \u001b[0my_pred\u001b[0m\u001b[1;33m.\u001b[0m\u001b[0munique\u001b[0m\u001b[1;33m(\u001b[0m\u001b[1;33m)\u001b[0m\u001b[1;33m=\u001b[0m\u001b[1;33m%\u001b[0m\u001b[0ms\u001b[0m\u001b[0;31m\"\u001b[0m\u001b[0;31m \u001b[0m\u001b[0;31m\\\u001b[0m\u001b[1;33m\u001b[0m\u001b[1;33m\u001b[0m\u001b[0m\n\u001b[1;32m---> 25\u001b[1;33m \u001b[1;33m%\u001b[0m \u001b[1;33m(\u001b[0m\u001b[0mself\u001b[0m\u001b[1;33m.\u001b[0m\u001b[0mlen\u001b[0m\u001b[1;33m(\u001b[0m\u001b[1;33m)\u001b[0m\u001b[1;33m,\u001b[0m \u001b[0mself\u001b[0m\u001b[1;33m.\u001b[0m\u001b[0my_true\u001b[0m\u001b[1;33m(\u001b[0m\u001b[1;33m)\u001b[0m\u001b[1;33m.\u001b[0m\u001b[0munique\u001b[0m\u001b[1;33m(\u001b[0m\u001b[1;33m)\u001b[0m\u001b[1;33m,\u001b[0m \u001b[0mself\u001b[0m\u001b[1;33m.\u001b[0m\u001b[0my_pred\u001b[0m\u001b[1;33m(\u001b[0m\u001b[1;33m)\u001b[0m\u001b[1;33m.\u001b[0m\u001b[0munique\u001b[0m\u001b[1;33m(\u001b[0m\u001b[1;33m)\u001b[0m\u001b[1;33m)\u001b[0m\u001b[1;33m\u001b[0m\u001b[1;33m\u001b[0m\u001b[0m\n\u001b[0m\u001b[0;32m     26\u001b[0m \u001b[1;33m\u001b[0m\u001b[0m\n\u001b[0;32m     27\u001b[0m     \u001b[1;33m@\u001b[0m\u001b[0mclassmethod\u001b[0m\u001b[1;33m\u001b[0m\u001b[1;33m\u001b[0m\u001b[0m\n",
      "\u001b[1;31mAssertionError\u001b[0m: Binary confusion matrix must have len=2 but len=1 because y_true.unique()=[0] y_pred.unique()=[0]"
     ]
    }
   ],
   "source": [
    "!pip install pandas_ml\n"
   ]
  },
  {
   "cell_type": "code",
   "execution_count": 61,
   "metadata": {},
   "outputs": [
    {
     "data": {
      "text/plain": [
       "Predicted      0  1  2  3  4  5  6  7  8  9  __all__\n",
       "Actual                                              \n",
       "0           1000  0  0  0  0  0  0  0  0  0     1000\n",
       "1           1000  0  0  0  0  0  0  0  0  0     1000\n",
       "2           1000  0  0  0  0  0  0  0  0  0     1000\n",
       "3           1000  0  0  0  0  0  0  0  0  0     1000\n",
       "4           1000  0  0  0  0  0  0  0  0  0     1000\n",
       "5           1000  0  0  0  0  0  0  0  0  0     1000\n",
       "6           1000  0  0  0  0  0  0  0  0  0     1000\n",
       "7           1000  0  0  0  0  0  0  0  0  0     1000\n",
       "8           1000  0  0  0  0  0  0  0  0  0     1000\n",
       "9           1000  0  0  0  0  0  0  0  0  0     1000\n",
       "__all__    10000  0  0  0  0  0  0  0  0  0    10000"
      ]
     },
     "execution_count": 61,
     "metadata": {},
     "output_type": "execute_result"
    }
   ],
   "source": [
    "\n",
    "from pandas_ml import ConfusionMatrix\n",
    "\n",
    "ConfusionMatrix(np.argmax(y_test_cat, axis=1), np.argmax(model.predict(X_test), axis=1))"
   ]
  },
  {
   "cell_type": "code",
   "execution_count": 59,
   "metadata": {},
   "outputs": [
    {
     "data": {
      "text/plain": [
       "array([], shape=(50000, 0), dtype=float32)"
      ]
     },
     "execution_count": 59,
     "metadata": {},
     "output_type": "execute_result"
    }
   ],
   "source": [
    "y_train_cat[:,range(0-9)]"
   ]
  },
  {
   "cell_type": "code",
   "execution_count": 54,
   "metadata": {},
   "outputs": [
    {
     "data": {
      "text/plain": [
       "array([[0., 0., 0., ..., 0., 0., 0.],\n",
       "       [0., 0., 0., ..., 0., 0., 1.],\n",
       "       [0., 0., 0., ..., 0., 0., 1.],\n",
       "       ...,\n",
       "       [0., 0., 0., ..., 0., 0., 1.],\n",
       "       [0., 1., 0., ..., 0., 0., 0.],\n",
       "       [0., 1., 0., ..., 0., 0., 0.]], dtype=float32)"
      ]
     },
     "execution_count": 54,
     "metadata": {},
     "output_type": "execute_result"
    }
   ],
   "source": [
    "y_train_cat"
   ]
  },
  {
   "cell_type": "code",
   "execution_count": 55,
   "metadata": {},
   "outputs": [
    {
     "data": {
      "text/plain": [
       "(50000, 10)"
      ]
     },
     "execution_count": 55,
     "metadata": {},
     "output_type": "execute_result"
    }
   ],
   "source": [
    "y_train_cat.shape"
   ]
  },
  {
   "cell_type": "code",
   "execution_count": 57,
   "metadata": {},
   "outputs": [
    {
     "data": {
      "text/plain": [
       "range(0, 9)"
      ]
     },
     "execution_count": 57,
     "metadata": {},
     "output_type": "execute_result"
    }
   ],
   "source": [
    "range(0,9)"
   ]
  },
  {
   "cell_type": "code",
   "execution_count": 58,
   "metadata": {},
   "outputs": [
    {
     "data": {
      "text/plain": [
       "5000.0"
      ]
     },
     "execution_count": 58,
     "metadata": {},
     "output_type": "execute_result"
    }
   ],
   "source": [
    "sum(y_train_cat[:,0])"
   ]
  },
  {
   "cell_type": "code",
   "execution_count": 60,
   "metadata": {},
   "outputs": [
    {
     "name": "stdout",
     "output_type": "stream",
     "text": [
      "range(0, 1)\n"
     ]
    }
   ],
   "source": [
    "print(range(0,1))"
   ]
  },
  {
   "cell_type": "code",
   "execution_count": 62,
   "metadata": {},
   "outputs": [
    {
     "data": {
      "text/plain": [
       "array([[[ 59,  62,  63],\n",
       "        [ 43,  46,  45],\n",
       "        [ 50,  48,  43],\n",
       "        ...,\n",
       "        [158, 132, 108],\n",
       "        [152, 125, 102],\n",
       "        [148, 124, 103]],\n",
       "\n",
       "       [[ 16,  20,  20],\n",
       "        [  0,   0,   0],\n",
       "        [ 18,   8,   0],\n",
       "        ...,\n",
       "        [123,  88,  55],\n",
       "        [119,  83,  50],\n",
       "        [122,  87,  57]],\n",
       "\n",
       "       [[ 25,  24,  21],\n",
       "        [ 16,   7,   0],\n",
       "        [ 49,  27,   8],\n",
       "        ...,\n",
       "        [118,  84,  50],\n",
       "        [120,  84,  50],\n",
       "        [109,  73,  42]],\n",
       "\n",
       "       ...,\n",
       "\n",
       "       [[208, 170,  96],\n",
       "        [201, 153,  34],\n",
       "        [198, 161,  26],\n",
       "        ...,\n",
       "        [160, 133,  70],\n",
       "        [ 56,  31,   7],\n",
       "        [ 53,  34,  20]],\n",
       "\n",
       "       [[180, 139,  96],\n",
       "        [173, 123,  42],\n",
       "        [186, 144,  30],\n",
       "        ...,\n",
       "        [184, 148,  94],\n",
       "        [ 97,  62,  34],\n",
       "        [ 83,  53,  34]],\n",
       "\n",
       "       [[177, 144, 116],\n",
       "        [168, 129,  94],\n",
       "        [179, 142,  87],\n",
       "        ...,\n",
       "        [216, 184, 140],\n",
       "        [151, 118,  84],\n",
       "        [123,  92,  72]]], dtype=uint8)"
      ]
     },
     "execution_count": 62,
     "metadata": {},
     "output_type": "execute_result"
    }
   ],
   "source": [
    "X_train[0]"
   ]
  },
  {
   "cell_type": "code",
   "execution_count": null,
   "metadata": {},
   "outputs": [],
   "source": []
  }
 ],
 "metadata": {
  "kernelspec": {
   "display_name": "Python 3",
   "language": "python",
   "name": "python3"
  },
  "language_info": {
   "codemirror_mode": {
    "name": "ipython",
    "version": 3
   },
   "file_extension": ".py",
   "mimetype": "text/x-python",
   "name": "python",
   "nbconvert_exporter": "python",
   "pygments_lexer": "ipython3",
   "version": "3.6.7"
  }
 },
 "nbformat": 4,
 "nbformat_minor": 2
}
