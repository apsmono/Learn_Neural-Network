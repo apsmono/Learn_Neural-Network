{
 "cells": [
  {
   "cell_type": "code",
   "execution_count": 1,
   "metadata": {},
   "outputs": [
    {
     "name": "stderr",
     "output_type": "stream",
     "text": [
      "Using TensorFlow backend.\n"
     ]
    }
   ],
   "source": [
    "from keras.datasets import cifar10\n",
    "import numpy as np\n",
    "\n",
    "(X_train, y_train), (X_test,y_test) = cifar10.load_data()\n",
    "\n",
    "X_train = X_train/255.\n",
    "X_test = X_test/255."
   ]
  },
  {
   "cell_type": "code",
   "execution_count": 2,
   "metadata": {},
   "outputs": [],
   "source": [
    "from keras.utils import to_categorical\n",
    "\n",
    "y_train_cat = to_categorical(y_train)\n",
    "y_test_cat = to_categorical(y_test)"
   ]
  },
  {
   "cell_type": "code",
   "execution_count": 3,
   "metadata": {},
   "outputs": [],
   "source": [
    "from keras.models import Sequential\n",
    "from keras.layers import Dense, Flatten, Dropout, Conv2D, MaxPooling2D\n",
    "from keras.optimizers import RMSprop\n",
    "\n",
    "model = Sequential()\n",
    "\n",
    "model.add(Conv2D(32, kernel_size=(3,3), input_shape=(32,32,3), activation=\"relu\", padding=\"same\"))\n",
    "model.add(Conv2D(32, kernel_size=(3,3), activation=\"relu\", padding=\"same\"))\n",
    "model.add(MaxPooling2D(pool_size=(2,2), padding=\"same\"))\n",
    "model.add(Dropout(0.2))\n",
    "\n",
    "model.add(Conv2D(64, kernel_size=(3,3), activation=\"relu\", padding=\"same\"))\n",
    "model.add(Conv2D(64, kernel_size=(3,3), activation=\"relu\", padding=\"same\"))\n",
    "model.add(MaxPooling2D(pool_size=(2,2), padding=\"same\"))\n",
    "model.add(Dropout(0.2))\n",
    "\n",
    "model.add(Flatten())\n",
    "model.add(Dense(256, activation=\"relu\"))\n",
    "model.add(Dense(128, activation=\"relu\"))\n",
    "model.add(Dense(10, activation=\"sigmoid\"))\n",
    "\n",
    "\n",
    "model.compile(optimizer=RMSprop(lr=0.0001), loss=\"categorical_crossentropy\", metrics=[\"accuracy\"])"
   ]
  },
  {
   "cell_type": "code",
   "execution_count": 4,
   "metadata": {
    "scrolled": true
   },
   "outputs": [
    {
     "name": "stdout",
     "output_type": "stream",
     "text": [
      "Epoch 1/50\n",
      "391/391 [==============================] - 54s 138ms/step - loss: 2.0146 - acc: 0.2665\n",
      "Epoch 2/50\n",
      "391/391 [==============================] - 44s 112ms/step - loss: 1.7187 - acc: 0.3854\n",
      "Epoch 3/50\n",
      "391/391 [==============================] - 43s 111ms/step - loss: 1.6024 - acc: 0.4233\n",
      "Epoch 4/50\n",
      "391/391 [==============================] - 44s 113ms/step - loss: 1.5253 - acc: 0.4489\n",
      "Epoch 5/50\n",
      "391/391 [==============================] - 43s 111ms/step - loss: 1.4591 - acc: 0.4750\n",
      "Epoch 6/50\n",
      "391/391 [==============================] - 44s 113ms/step - loss: 1.4001 - acc: 0.49801s - loss: 1.4025\n",
      "Epoch 7/50\n",
      "391/391 [==============================] - 44s 113ms/step - loss: 1.3499 - acc: 0.5154\n",
      "Epoch 8/50\n",
      "391/391 [==============================] - 44s 113ms/step - loss: 1.3075 - acc: 0.5351\n",
      "Epoch 9/50\n",
      "391/391 [==============================] - 43s 111ms/step - loss: 1.2655 - acc: 0.5508\n",
      "Epoch 10/50\n",
      "391/391 [==============================] - 44s 111ms/step - loss: 1.2279 - acc: 0.5640\n",
      "Epoch 11/50\n",
      "391/391 [==============================] - 43s 111ms/step - loss: 1.1966 - acc: 0.5767\n",
      "Epoch 12/50\n",
      "391/391 [==============================] - 43s 111ms/step - loss: 1.1613 - acc: 0.5900\n",
      "Epoch 13/50\n",
      "391/391 [==============================] - 44s 113ms/step - loss: 1.1309 - acc: 0.6000\n",
      "Epoch 14/50\n",
      "391/391 [==============================] - 44s 112ms/step - loss: 1.1048 - acc: 0.6109\n",
      "Epoch 15/50\n",
      "391/391 [==============================] - 43s 111ms/step - loss: 1.0764 - acc: 0.6201\n",
      "Epoch 16/50\n",
      "391/391 [==============================] - 43s 111ms/step - loss: 1.0475 - acc: 0.6301\n",
      "Epoch 17/50\n",
      "391/391 [==============================] - 43s 111ms/step - loss: 1.0308 - acc: 0.6363\n",
      "Epoch 18/50\n",
      "391/391 [==============================] - 44s 111ms/step - loss: 1.0040 - acc: 0.6481\n",
      "Epoch 19/50\n",
      "391/391 [==============================] - 44s 111ms/step - loss: 0.9875 - acc: 0.6539\n",
      "Epoch 20/50\n",
      "391/391 [==============================] - 44s 111ms/step - loss: 0.9692 - acc: 0.6596\n",
      "Epoch 21/50\n",
      "391/391 [==============================] - 47s 120ms/step - loss: 0.9501 - acc: 0.6634\n",
      "Epoch 22/50\n",
      "391/391 [==============================] - 45s 114ms/step - loss: 0.9344 - acc: 0.6724\n",
      "Epoch 23/50\n",
      "391/391 [==============================] - 44s 112ms/step - loss: 0.9189 - acc: 0.6778\n",
      "Epoch 24/50\n",
      "391/391 [==============================] - 44s 112ms/step - loss: 0.8970 - acc: 0.6868\n",
      "Epoch 25/50\n",
      "391/391 [==============================] - 45s 116ms/step - loss: 0.8871 - acc: 0.6906\n",
      "Epoch 26/50\n",
      "391/391 [==============================] - ETA: 0s - loss: 0.8740 - acc: 0.694 - 45s 116ms/step - loss: 0.8733 - acc: 0.6951\n",
      "Epoch 27/50\n",
      "391/391 [==============================] - 47s 119ms/step - loss: 0.8620 - acc: 0.6989\n",
      "Epoch 28/50\n",
      "391/391 [==============================] - 46s 117ms/step - loss: 0.8430 - acc: 0.7035\n",
      "Epoch 29/50\n",
      "391/391 [==============================] - 46s 117ms/step - loss: 0.8332 - acc: 0.7086\n",
      "Epoch 30/50\n",
      "391/391 [==============================] - 44s 113ms/step - loss: 0.8201 - acc: 0.7133\n",
      "Epoch 31/50\n",
      "391/391 [==============================] - 43s 110ms/step - loss: 0.8028 - acc: 0.7204\n",
      "Epoch 32/50\n",
      "391/391 [==============================] - 43s 110ms/step - loss: 0.7920 - acc: 0.7211\n",
      "Epoch 33/50\n",
      "391/391 [==============================] - 43s 110ms/step - loss: 0.7845 - acc: 0.7259\n",
      "Epoch 34/50\n",
      "391/391 [==============================] - 43s 110ms/step - loss: 0.7718 - acc: 0.7295\n",
      "Epoch 35/50\n",
      "391/391 [==============================] - 43s 111ms/step - loss: 0.7619 - acc: 0.7312\n",
      "Epoch 36/50\n",
      "391/391 [==============================] - 43s 110ms/step - loss: 0.7507 - acc: 0.7360\n",
      "Epoch 37/50\n",
      "391/391 [==============================] - 43s 110ms/step - loss: 0.7389 - acc: 0.7434\n",
      "Epoch 38/50\n",
      "391/391 [==============================] - 43s 110ms/step - loss: 0.7319 - acc: 0.7447\n",
      "Epoch 39/50\n",
      "391/391 [==============================] - 43s 110ms/step - loss: 0.7188 - acc: 0.7488\n",
      "Epoch 40/50\n",
      "391/391 [==============================] - 43s 110ms/step - loss: 0.7084 - acc: 0.7542\n",
      "Epoch 41/50\n",
      "391/391 [==============================] - 43s 110ms/step - loss: 0.7016 - acc: 0.7556\n",
      "Epoch 42/50\n",
      "391/391 [==============================] - 43s 110ms/step - loss: 0.6901 - acc: 0.7590\n",
      "Epoch 43/50\n",
      "391/391 [==============================] - 43s 110ms/step - loss: 0.6808 - acc: 0.7616\n",
      "Epoch 44/50\n",
      "391/391 [==============================] - 43s 110ms/step - loss: 0.6718 - acc: 0.7656\n",
      "Epoch 45/50\n",
      "391/391 [==============================] - 43s 110ms/step - loss: 0.6675 - acc: 0.7659\n",
      "Epoch 46/50\n",
      "391/391 [==============================] - 43s 110ms/step - loss: 0.6517 - acc: 0.7728\n",
      "Epoch 47/50\n",
      "391/391 [==============================] - 43s 110ms/step - loss: 0.6485 - acc: 0.7722\n",
      "Epoch 48/50\n",
      "391/391 [==============================] - 43s 110ms/step - loss: 0.6383 - acc: 0.7785\n",
      "Epoch 49/50\n",
      "391/391 [==============================] - 44s 112ms/step - loss: 0.6304 - acc: 0.7806\n",
      "Epoch 50/50\n",
      "391/391 [==============================] - 43s 111ms/step - loss: 0.6237 - acc: 0.7814\n"
     ]
    },
    {
     "data": {
      "text/plain": [
       "<keras.callbacks.History at 0x2094423cf98>"
      ]
     },
     "execution_count": 4,
     "metadata": {},
     "output_type": "execute_result"
    }
   ],
   "source": [
    "from keras.preprocessing.image import ImageDataGenerator\n",
    "\n",
    "gen = ImageDataGenerator(width_shift_range=3, height_shift_range=3, zoom_range=0.1, horizontal_flip=True)\n",
    "\n",
    "model.fit_generator(gen.flow(X_train, y_train_cat, batch_size=128, shuffle=True), steps_per_epoch=len(gen.flow(X_train, y_train_cat, batch_size=128, shuffle=True)), epochs=50, workers=8)"
   ]
  },
  {
   "cell_type": "code",
   "execution_count": 5,
   "metadata": {},
   "outputs": [
    {
     "name": "stdout",
     "output_type": "stream",
     "text": [
      "50000/50000 [==============================] - 22s 440us/step\n"
     ]
    },
    {
     "data": {
      "text/plain": [
       "[0.47905796265602113, 0.83486]"
      ]
     },
     "execution_count": 5,
     "metadata": {},
     "output_type": "execute_result"
    }
   ],
   "source": [
    "model.evaluate(X_train,y_train_cat)"
   ]
  },
  {
   "cell_type": "code",
   "execution_count": 6,
   "metadata": {},
   "outputs": [
    {
     "name": "stdout",
     "output_type": "stream",
     "text": [
      "10000/10000 [==============================] - 4s 443us/step\n"
     ]
    },
    {
     "data": {
      "text/plain": [
       "[0.6618810896873474, 0.7759]"
      ]
     },
     "execution_count": 6,
     "metadata": {},
     "output_type": "execute_result"
    }
   ],
   "source": [
    "model.evaluate(X_test,y_test_cat)"
   ]
  },
  {
   "cell_type": "code",
   "execution_count": 8,
   "metadata": {},
   "outputs": [],
   "source": [
    "model.save(\"cifar10_cat_8877.b5\")"
   ]
  },
  {
   "cell_type": "code",
   "execution_count": null,
   "metadata": {},
   "outputs": [],
   "source": []
  }
 ],
 "metadata": {
  "kernelspec": {
   "display_name": "Python 3",
   "language": "python",
   "name": "python3"
  },
  "language_info": {
   "codemirror_mode": {
    "name": "ipython",
    "version": 3
   },
   "file_extension": ".py",
   "mimetype": "text/x-python",
   "name": "python",
   "nbconvert_exporter": "python",
   "pygments_lexer": "ipython3",
   "version": "3.6.7"
  }
 },
 "nbformat": 4,
 "nbformat_minor": 2
}
